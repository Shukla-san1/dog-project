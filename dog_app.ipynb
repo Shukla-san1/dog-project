{
 "cells": [
  {
   "cell_type": "markdown",
   "metadata": {},
   "source": [
    "# Artificial Intelligence Nanodegree\n",
    "\n",
    "## Convolutional Neural Networks\n",
    "\n",
    "## Project: Write an Algorithm for a Dog Identification App \n",
    "\n",
    "---\n",
    "\n",
    "In this notebook, some template code has already been provided for you, and you will need to implement additional functionality to successfully complete this project. You will not need to modify the included code beyond what is requested. Sections that begin with **'(IMPLEMENTATION)'** in the header indicate that the following block of code will require additional functionality which you must provide. Instructions will be provided for each section, and the specifics of the implementation are marked in the code block with a 'TODO' statement. Please be sure to read the instructions carefully! \n",
    "\n",
    "> **Note**: Once you have completed all of the code implementations, you need to finalize your work by exporting the iPython Notebook as an HTML document. Before exporting the notebook to html, all of the code cells need to have been run so that reviewers can see the final implementation and output. You can then export the notebook by using the menu above and navigating to  \\n\",\n",
    "    \"**File -> Download as -> HTML (.html)**. Include the finished document along with this notebook as your submission.\n",
    "\n",
    "In addition to implementing code, there will be questions that you must answer which relate to the project and your implementation. Each section where you will answer a question is preceded by a **'Question X'** header. Carefully read each question and provide thorough answers in the following text boxes that begin with **'Answer:'**. Your project submission will be evaluated based on your answers to each of the questions and the implementation you provide.\n",
    "\n",
    ">**Note:** Code and Markdown cells can be executed using the **Shift + Enter** keyboard shortcut.  Markdown cells can be edited by double-clicking the cell to enter edit mode.\n",
    "\n",
    "The rubric contains _optional_ \"Stand Out Suggestions\" for enhancing the project beyond the minimum requirements. If you decide to pursue the \"Stand Out Suggestions\", you should include the code in this IPython notebook.\n",
    "\n",
    "\n",
    "\n",
    "---\n",
    "### Why We're Here \n",
    "\n",
    "In this notebook, you will make the first steps towards developing an algorithm that could be used as part of a mobile or web app.  At the end of this project, your code will accept any user-supplied image as input.  If a dog is detected in the image, it will provide an estimate of the dog's breed.  If a human is detected, it will provide an estimate of the dog breed that is most resembling.  The image below displays potential sample output of your finished project (... but we expect that each student's algorithm will behave differently!). \n",
    "\n",
    "![Sample Dog Output](images/sample_dog_output.png)\n",
    "\n",
    "In this real-world setting, you will need to piece together a series of models to perform different tasks; for instance, the algorithm that detects humans in an image will be different from the CNN that infers dog breed.  There are many points of possible failure, and no perfect algorithm exists.  Your imperfect solution will nonetheless create a fun user experience!\n",
    "\n",
    "### The Road Ahead\n",
    "\n",
    "We break the notebook into separate steps.  Feel free to use the links below to navigate the notebook.\n",
    "\n",
    "* [Step 0](#step0): Import Datasets\n",
    "* [Step 1](#step1): Detect Humans\n",
    "* [Step 2](#step2): Detect Dogs\n",
    "* [Step 3](#step3): Create a CNN to Classify Dog Breeds (from Scratch)\n",
    "* [Step 4](#step4): Use a CNN to Classify Dog Breeds (using Transfer Learning)\n",
    "* [Step 5](#step5): Create a CNN to Classify Dog Breeds (using Transfer Learning)\n",
    "* [Step 6](#step6): Write your Algorithm\n",
    "* [Step 7](#step7): Test Your Algorithm\n",
    "\n",
    "---\n",
    "<a id='step0'></a>\n",
    "## Step 0: Import Datasets\n",
    "\n",
    "### Import Dog Dataset\n",
    "\n",
    "In the code cell below, we import a dataset of dog images.  We populate a few variables through the use of the `load_files` function from the scikit-learn library:\n",
    "- `train_files`, `valid_files`, `test_files` - numpy arrays containing file paths to images\n",
    "- `train_targets`, `valid_targets`, `test_targets` - numpy arrays containing onehot-encoded classification labels \n",
    "- `dog_names` - list of string-valued dog breed names for translating labels"
   ]
  },
  {
   "cell_type": "code",
   "execution_count": 3,
   "metadata": {},
   "outputs": [
    {
     "name": "stderr",
     "output_type": "stream",
     "text": [
      "Using TensorFlow backend.\n"
     ]
    },
    {
     "name": "stdout",
     "output_type": "stream",
     "text": [
      "There are 133 total dog categories.\n",
      "There are 8351 total dog images.\n",
      "\n",
      "There are 6680 training dog images.\n",
      "There are 835 validation dog images.\n",
      "There are 836 test dog images.\n"
     ]
    }
   ],
   "source": [
    "from sklearn.datasets import load_files       \n",
    "from keras.utils import np_utils\n",
    "import numpy as np\n",
    "from glob import glob\n",
    "import pickle\n",
    "\n",
    "# define function to load train, test, and validation datasets\n",
    "def load_dataset(path):\n",
    "    data = load_files(path)\n",
    "    dog_files = np.array(data['filenames'])\n",
    "    dog_targets = np_utils.to_categorical(np.array(data['target']), 133)\n",
    "    return dog_files, dog_targets\n",
    "\n",
    "# load train, test, and validation datasets\n",
    "train_files, train_targets = load_dataset('dogImages/train')\n",
    "valid_files, valid_targets = load_dataset('dogImages/valid')\n",
    "test_files, test_targets = load_dataset('dogImages/test')\n",
    "'''\n",
    "pickle.dump( train_files, open( \"train_files.p\", \"wb\" ) )\n",
    "pickle.dump( train_targets, open( \"train_targets.p\", \"wb\" ) )\n",
    "\n",
    "pickle.dump( valid_files, open( \"valid_files.p\", \"wb\" ) )\n",
    "pickle.dump( valid_targets, open( \"valid_targets.p\", \"wb\" ) )\n",
    "\n",
    "pickle.dump( test_files, open( \"test_files.p\", \"wb\" ) )\n",
    "pickle.dump( test_targets, open( \"test_targets.p\", \"wb\" ) )\n",
    "'''\n",
    "# load list of dog names\n",
    "dog_names = [item[20:-1] for item in sorted(glob(\"dogImages/train/*/\"))]\n",
    "\n",
    "# print statistics about the dataset\n",
    "print('There are %d total dog categories.' % len(dog_names))\n",
    "print('There are %s total dog images.\\n' % len(np.hstack([train_files, valid_files, test_files])))\n",
    "print('There are %d training dog images.' % len(train_files))\n",
    "print('There are %d validation dog images.' % len(valid_files))\n",
    "print('There are %d test dog images.'% len(test_files))"
   ]
  },
  {
   "cell_type": "markdown",
   "metadata": {},
   "source": [
    "### Import Human Dataset\n",
    "\n",
    "In the code cell below, we import a dataset of human images, where the file paths are stored in the numpy array `human_files`."
   ]
  },
  {
   "cell_type": "code",
   "execution_count": 5,
   "metadata": {},
   "outputs": [
    {
     "name": "stdout",
     "output_type": "stream",
     "text": [
      "There are 13233 total human images.\n"
     ]
    }
   ],
   "source": [
    "import random\n",
    "random.seed(8675309)\n",
    "import numpy as np\n",
    "from glob import glob\n",
    "\n",
    "# load filenames in shuffled human dataset\n",
    "human_files = np.array(glob(\"lfw/*/*\"))\n",
    "random.shuffle(human_files)\n",
    "\n",
    "# print statistics about the dataset\n",
    "print('There are %d total human images.' % len(human_files))"
   ]
  },
  {
   "cell_type": "markdown",
   "metadata": {},
   "source": [
    "---\n",
    "<a id='step1'></a>\n",
    "## Step 1: Detect Humans\n",
    "\n",
    "We use OpenCV's implementation of [Haar feature-based cascade classifiers](http://docs.opencv.org/trunk/d7/d8b/tutorial_py_face_detection.html) to detect human faces in images.  OpenCV provides many pre-trained face detectors, stored as XML files on [github](https://github.com/opencv/opencv/tree/master/data/haarcascades).  We have downloaded one of these detectors and stored it in the `haarcascades` directory.\n",
    "\n",
    "In the next code cell, we demonstrate how to use this detector to find human faces in a sample image."
   ]
  },
  {
   "cell_type": "code",
   "execution_count": 6,
   "metadata": {},
   "outputs": [
    {
     "name": "stdout",
     "output_type": "stream",
     "text": [
      "Number of faces detected: 1\n"
     ]
    },
    {
     "data": {
      "image/png": "[encoded data removed]",
      "text/plain": [
       "<matplotlib.figure.Figure at 0x7f3d40ab3908>"
      ]
     },
     "metadata": {},
     "output_type": "display_data"
    }
   ],
   "source": [
    "import cv2                \n",
    "import matplotlib.pyplot as plt                        \n",
    "%matplotlib inline                               \n",
    "\n",
    "# extract pre-trained face detector\n",
    "face_cascade = cv2.CascadeClassifier('haarcascades/haarcascade_frontalface_alt.xml')\n",
    "\n",
    "# load color (BGR) image\n",
    "img = cv2.imread(human_files[3])\n",
    "# convert BGR image to grayscale\n",
    "gray = cv2.cvtColor(img, cv2.COLOR_BGR2GRAY)\n",
    "\n",
    "# find faces in image\n",
    "faces = face_cascade.detectMultiScale(gray)\n",
    "\n",
    "# print number of faces detected in the image\n",
    "print('Number of faces detected:', len(faces))\n",
    "\n",
    "# get bounding box for each detected face\n",
    "for (x,y,w,h) in faces:\n",
    "    # add bounding box to color image\n",
    "    cv2.rectangle(img,(x,y),(x+w,y+h),(255,0,0),2)\n",
    "    \n",
    "# convert BGR image to RGB for plotting\n",
    "cv_rgb = cv2.cvtColor(img, cv2.COLOR_BGR2RGB)\n",
    "\n",
    "# display the image, along with bounding box\n",
    "plt.imshow(cv_rgb)\n",
    "plt.show()"
   ]
  },
  {
   "cell_type": "markdown",
   "metadata": {},
   "source": [
    "Before using any of the face detectors, it is standard procedure to convert the images to grayscale.  The `detectMultiScale` function executes the classifier stored in `face_cascade` and takes the grayscale image as a parameter.  \n",
    "\n",
    "In the above code, `faces` is a numpy array of detected faces, where each row corresponds to a detected face.  Each detected face is a 1D array with four entries that specifies the bounding box of the detected face.  The first two entries in the array (extracted in the above code as `x` and `y`) specify the horizontal and vertical positions of the top left corner of the bounding box.  The last two entries in the array (extracted here as `w` and `h`) specify the width and height of the box.\n",
    "\n",
    "### Write a Human Face Detector\n",
    "\n",
    "We can use this procedure to write a function that returns `True` if a human face is detected in an image and `False` otherwise.  This function, aptly named `face_detector`, takes a string-valued file path to an image as input and appears in the code block below."
   ]
  },
  {
   "cell_type": "code",
   "execution_count": 11,
   "metadata": {
    "collapsed": true
   },
   "outputs": [],
   "source": [
    "# returns \"True\" if face is detected in image stored at img_path\n",
    "def face_detector(img_path):\n",
    "    img = cv2.imread(img_path)\n",
    "    gray = cv2.cvtColor(img, cv2.COLOR_BGR2GRAY)\n",
    "    faces = face_cascade.detectMultiScale(gray)\n",
    "    return len(faces) > 0"
   ]
  },
  {
   "cell_type": "markdown",
   "metadata": {},
   "source": [
    "### (IMPLEMENTATION) Assess the Human Face Detector\n",
    "\n",
    "__Question 1:__ Use the code cell below to test the performance of the `face_detector` function.  \n",
    "- What percentage of the first 100 images in `human_files` have a detected human face?  \n",
    "- What percentage of the first 100 images in `dog_files` have a detected human face? \n",
    "\n",
    "Ideally, we would like 100% of human images with a detected face and 0% of dog images with a detected face.  You will see that our algorithm falls short of this goal, but still gives acceptable performance.  We extract the file paths for the first 100 images from each of the datasets and store them in the numpy arrays `human_files_short` and `dog_files_short`.\n",
    "\n",
    "__Answer:__  \n",
    "100% of the human face detected as human but when we had tested the algothims with dog images it detected 11% of  dog images as human face. So it means algorthim has 11% false positves. So with these number we can deduce the precision of alogrthim ( Ture positive/True positive +Flase positive) is 94.5%."
   ]
  },
  {
   "cell_type": "code",
   "execution_count": 12,
   "metadata": {},
   "outputs": [
    {
     "name": "stdout",
     "output_type": "stream",
     "text": [
      "Performance of face_detector in human image list: 100.00%\n",
      "Performance of face_detector in dog image list: 11.00% \n"
     ]
    }
   ],
   "source": [
    "human_files_short = human_files[:100]\n",
    "dog_files_short = train_files[:100]\n",
    "# Do NOT modify the code above this line.\n",
    "\n",
    "## TODO: Test the performance of the face_detector algorithm \n",
    "## on the images in human_files_short and dog_files_short.\n",
    "#img = cv2.imread(dog_files_short[3])\n",
    "#plt.imshow(img)\n",
    "#plt.show()\n",
    "\n",
    "def face_detector_perf_test(img_array):\n",
    "    counter = 0;\n",
    "    for i in range(len(img_array)):\n",
    "        \n",
    "        if (face_detector(img_array[i]) == True):\n",
    "            counter = counter + 1\n",
    "    \n",
    "    return (((counter/len(img_array))*100))\n",
    "    \n",
    "\n",
    "print('Performance of face_detector in human image list: %.2f%%' % face_detector_perf_test(human_files_short))\n",
    "print('Performance of face_detector in dog image list: %.2f%% ' % face_detector_perf_test(dog_files_short))\n"
   ]
  },
  {
   "cell_type": "markdown",
   "metadata": {},
   "source": [
    "__Question 2:__ This algorithmic choice necessitates that we communicate to the user that we accept human images only when they provide a clear view of a face (otherwise, we risk having unneccessarily frustrated users!). In your opinion, is this a reasonable expectation to pose on the user? If not, can you think of a way to detect humans in images that does not necessitate an image with a clearly presented face?\n",
    "\n",
    "__Answer:__\n",
    "\n",
    "Haarcascade classifier unable to work with edge or contour features that describe the outline of shapes such as the shape of the profile face.\n",
    "haarcascade classifier is suitable for blob like features such as those commonly found on frontal faces. This is why haar-like features work best for frontal face detection.\n",
    "Hence It reasonable expectation and ask user that we accept human images only when they provide a clear view of a face. Because this will help for better accuracy for classfier.\n",
    "Haarcascade classifier has limitation and it unable to work with edge or contour features that describe the outline of shapes such as the shape of the profile face.\n",
    "\n",
    "If we want to detect iamges which is not having clearly presented face, we need to develop CNN model which is good for richer set of fetaure extraction and Haarcascade classifier limitation can be fixed with CNN model.\n",
    "\n",
    "\n",
    "\n",
    "We suggest the face detector from OpenCV as a potential way to detect human images in your algorithm, but you are free to explore other approaches, especially approaches that make use of deep learning :).  Please use the code cell below to design and test your own face detection algorithm.  If you decide to pursue this _optional_ task, report performance on each of the datasets."
   ]
  },
  {
   "cell_type": "code",
   "execution_count": 13,
   "metadata": {
    "collapsed": true
   },
   "outputs": [],
   "source": [
    "## (Optional) TODO: Report the performance of another  \n",
    "## face detection algorithm on the LFW dataset\n",
    "### Feel free to use as many code cells as needed."
   ]
  },
  {
   "cell_type": "markdown",
   "metadata": {},
   "source": [
    "---\n",
    "<a id='step2'></a>\n",
    "## Step 2: Detect Dogs\n",
    "\n",
    "In this section, we use a pre-trained [ResNet-50](http://ethereon.github.io/netscope/#/gist/db945b393d40bfa26006) model to detect dogs in images.  Our first line of code downloads the ResNet-50 model, along with weights that have been trained on [ImageNet](http://www.image-net.org/), a very large, very popular dataset used for image classification and other vision tasks.  ImageNet contains over 10 million URLs, each linking to an image containing an object from one of [1000 categories](https://gist.github.com/yrevar/942d3a0ac09ec9e5eb3a).  Given an image, this pre-trained ResNet-50 model returns a prediction (derived from the available categories in ImageNet) for the object that is contained in the image."
   ]
  },
  {
   "cell_type": "code",
   "execution_count": 19,
   "metadata": {
    "collapsed": true
   },
   "outputs": [],
   "source": [
    "from keras.applications.resnet50 import ResNet50\n",
    "\n",
    "# define ResNet50 model\n",
    "ResNet50_model = ResNet50(weights='imagenet')"
   ]
  },
  {
   "cell_type": "markdown",
   "metadata": {},
   "source": [
    "### Pre-process the Data\n",
    "\n",
    "When using TensorFlow as backend, Keras CNNs require a 4D array (which we'll also refer to as a 4D tensor) as input, with shape\n",
    "\n",
    "$$\n",
    "(\\text{nb_samples}, \\text{rows}, \\text{columns}, \\text{channels}),\n",
    "$$\n",
    "\n",
    "where `nb_samples` corresponds to the total number of images (or samples), and `rows`, `columns`, and `channels` correspond to the number of rows, columns, and channels for each image, respectively.  \n",
    "\n",
    "The `path_to_tensor` function below takes a string-valued file path to a color image as input and returns a 4D tensor suitable for supplying to a Keras CNN.  The function first loads the image and resizes it to a square image that is $224 \\times 224$ pixels.  Next, the image is converted to an array, which is then resized to a 4D tensor.  In this case, since we are working with color images, each image has three channels.  Likewise, since we are processing a single image (or sample), the returned tensor will always have shape\n",
    "\n",
    "$$\n",
    "(1, 224, 224, 3).\n",
    "$$\n",
    "\n",
    "The `paths_to_tensor` function takes a numpy array of string-valued image paths as input and returns a 4D tensor with shape \n",
    "\n",
    "$$\n",
    "(\\text{nb_samples}, 224, 224, 3).\n",
    "$$\n",
    "\n",
    "Here, `nb_samples` is the number of samples, or number of images, in the supplied array of image paths.  It is best to think of `nb_samples` as the number of 3D tensors (where each 3D tensor corresponds to a different image) in your dataset!"
   ]
  },
  {
   "cell_type": "code",
   "execution_count": 18,
   "metadata": {
    "collapsed": true
   },
   "outputs": [],
   "source": [
    "from keras.preprocessing import image                  \n",
    "from tqdm import tqdm\n",
    "\n",
    "def path_to_tensor(img_path):\n",
    "    # loads RGB image as PIL.Image.Image type\n",
    "    img = image.load_img(img_path, target_size=(224, 224))\n",
    "    # convert PIL.Image.Image type to 3D tensor with shape (224, 224, 3)\n",
    "    x = image.img_to_array(img)\n",
    "    # convert 3D tensor to 4D tensor with shape (1, 224, 224, 3) and return 4D tensor\n",
    "    return np.expand_dims(x, axis=0)\n",
    "\n",
    "def paths_to_tensor(img_paths):\n",
    "    list_of_tensors = [path_to_tensor(img_path) for img_path in tqdm(img_paths)]\n",
    "    return np.vstack(list_of_tensors)"
   ]
  },
  {
   "cell_type": "markdown",
   "metadata": {},
   "source": [
    "### Making Predictions with ResNet-50\n",
    "\n",
    "Getting the 4D tensor ready for ResNet-50, and for any other pre-trained model in Keras, requires some additional processing.  First, the RGB image is converted to BGR by reordering the channels.  All pre-trained models have the additional normalization step that the mean pixel (expressed in RGB as $[103.939, 116.779, 123.68]$ and calculated from all pixels in all images in ImageNet) must be subtracted from every pixel in each image.  This is implemented in the imported function `preprocess_input`.  If you're curious, you can check the code for `preprocess_input` [here](https://github.com/fchollet/keras/blob/master/keras/applications/imagenet_utils.py).\n",
    "\n",
    "Now that we have a way to format our image for supplying to ResNet-50, we are now ready to use the model to extract the predictions.  This is accomplished with the `predict` method, which returns an array whose $i$-th entry is the model's predicted probability that the image belongs to the $i$-th ImageNet category.  This is implemented in the `ResNet50_predict_labels` function below.\n",
    "\n",
    "By taking the argmax of the predicted probability vector, we obtain an integer corresponding to the model's predicted object class, which we can identify with an object category through the use of this [dictionary](https://gist.github.com/yrevar/942d3a0ac09ec9e5eb3a). "
   ]
  },
  {
   "cell_type": "code",
   "execution_count": 17,
   "metadata": {
    "collapsed": true
   },
   "outputs": [],
   "source": [
    "from keras.applications.resnet50 import preprocess_input, decode_predictions\n",
    "\n",
    "def ResNet50_predict_labels(img_path):\n",
    "    # returns prediction vector for image located at img_path\n",
    "    img = preprocess_input(path_to_tensor(img_path))\n",
    "    return np.argmax(ResNet50_model.predict(img))"
   ]
  },
  {
   "cell_type": "markdown",
   "metadata": {},
   "source": [
    "### Write a Dog Detector\n",
    "\n",
    "While looking at the [dictionary](https://gist.github.com/yrevar/942d3a0ac09ec9e5eb3a), you will notice that the categories corresponding to dogs appear in an uninterrupted sequence and correspond to dictionary keys 151-268, inclusive, to include all categories from `'Chihuahua'` to `'Mexican hairless'`.  Thus, in order to check to see if an image is predicted to contain a dog by the pre-trained ResNet-50 model, we need only check if the `ResNet50_predict_labels` function above returns a value between 151 and 268 (inclusive).\n",
    "\n",
    "We use these ideas to complete the `dog_detector` function below, which returns `True` if a dog is detected in an image (and `False` if not)."
   ]
  },
  {
   "cell_type": "code",
   "execution_count": 15,
   "metadata": {
    "collapsed": true
   },
   "outputs": [],
   "source": [
    "### returns \"True\" if a dog is detected in the image stored at img_path\n",
    "def dog_detector(img_path):\n",
    "    prediction = ResNet50_predict_labels(img_path)\n",
    "    return ((prediction <= 268) & (prediction >= 151)) "
   ]
  },
  {
   "cell_type": "markdown",
   "metadata": {},
   "source": [
    "### (IMPLEMENTATION) Assess the Dog Detector\n",
    "\n",
    "__Question 3:__ Use the code cell below to test the performance of your `dog_detector` function.  \n",
    "- What percentage of the images in `human_files_short` have a detected dog?  \n",
    "- What percentage of the images in `dog_files_short` have a detected dog?\n",
    "\n",
    "__Answer:__ \n",
    "\n",
    "100% of the dog images detected as dog by dog detector  but when we had tested the algothims with humans images it detected 1% of  human images as dog. So it means algorthim has 1% false positves. So with these number we can deduce the precision of alogrthim ( Ture positive/True positive +Flase positive) is 99.5%."
   ]
  },
  {
   "cell_type": "code",
   "execution_count": 20,
   "metadata": {},
   "outputs": [
    {
     "name": "stdout",
     "output_type": "stream",
     "text": [
      "Performance of dog_detector in human image list: 1.00%\n",
      "Performance of dog_detector in dog image list: 100.00%\n"
     ]
    }
   ],
   "source": [
    "### TODO: Test the performance of the dog_detector function\n",
    "### on the images in human_files_short and dog_files_short.\n",
    "def dog_detector_perf_test(img_array):\n",
    "    count = 0;\n",
    "    for i in range(len(img_array)):\n",
    "        \n",
    "        if (dog_detector(img_array[i]) == True):\n",
    "            count = count + 1\n",
    "    #print(count)\n",
    "    return (((count/len(img_array))*100))\n",
    "    \n",
    "\n",
    "print('Performance of dog_detector in human image list: %.2f%%'% dog_detector_perf_test(human_files_short))\n",
    "print('Performance of dog_detector in dog image list: %.2f%%'% dog_detector_perf_test(dog_files_short))\n"
   ]
  },
  {
   "cell_type": "markdown",
   "metadata": {},
   "source": [
    "---\n",
    "<a id='step3'></a>\n",
    "## Step 3: Create a CNN to Classify Dog Breeds (from Scratch)\n",
    "\n",
    "Now that we have functions for detecting humans and dogs in images, we need a way to predict breed from images.  In this step, you will create a CNN that classifies dog breeds.  You must create your CNN _from scratch_ (so, you can't use transfer learning _yet_!), and you must attain a test accuracy of at least 1%.  In Step 5 of this notebook, you will have the opportunity to use transfer learning to create a CNN that attains greatly improved accuracy.\n",
    "\n",
    "Be careful with adding too many trainable layers!  More parameters means longer training, which means you are more likely to need a GPU to accelerate the training process.  Thankfully, Keras provides a handy estimate of the time that each epoch is likely to take; you can extrapolate this estimate to figure out how long it will take for your algorithm to train. \n",
    "\n",
    "We mention that the task of assigning breed to dogs from images is considered exceptionally challenging.  To see why, consider that *even a human* would have great difficulty in distinguishing between a Brittany and a Welsh Springer Spaniel.  \n",
    "\n",
    "Brittany | Welsh Springer Spaniel\n",
    "- | - \n",
    "<img src=\"images/Brittany_02625.jpg\" width=\"100\"> | <img src=\"images/Welsh_springer_spaniel_08203.jpg\" width=\"200\">\n",
    "\n",
    "It is not difficult to find other dog breed pairs with minimal inter-class variation (for instance, Curly-Coated Retrievers and American Water Spaniels).  \n",
    "\n",
    "Curly-Coated Retriever | American Water Spaniel\n",
    "- | -\n",
    "<img src=\"images/Curly-coated_retriever_03896.jpg\" width=\"200\"> | <img src=\"images/American_water_spaniel_00648.jpg\" width=\"200\">\n",
    "\n",
    "\n",
    "Likewise, recall that labradors come in yellow, chocolate, and black.  Your vision-based algorithm will have to conquer this high intra-class variation to determine how to classify all of these different shades as the same breed.  \n",
    "\n",
    "Yellow Labrador | Chocolate Labrador | Black Labrador\n",
    "- | -\n",
    "<img src=\"images/Labrador_retriever_06457.jpg\" width=\"150\"> | <img src=\"images/Labrador_retriever_06455.jpg\" width=\"240\"> | <img src=\"images/Labrador_retriever_06449.jpg\" width=\"220\">\n",
    "\n",
    "We also mention that random chance presents an exceptionally low bar: setting aside the fact that the classes are slightly imabalanced, a random guess will provide a correct answer roughly 1 in 133 times, which corresponds to an accuracy of less than 1%.  \n",
    "\n",
    "Remember that the practice is far ahead of the theory in deep learning.  Experiment with many different architectures, and trust your intuition.  And, of course, have fun! \n",
    "\n",
    "### Pre-process the Data\n",
    "\n",
    "We rescale the images by dividing every pixel in every image by 255."
   ]
  },
  {
   "cell_type": "code",
   "execution_count": 16,
   "metadata": {},
   "outputs": [
    {
     "name": "stderr",
     "output_type": "stream",
     "text": [
      "100%|██████████| 835/835 [00:04<00:00, 176.91it/s]\n",
      "100%|██████████| 836/836 [00:04<00:00, 171.00it/s]\n"
     ]
    }
   ],
   "source": [
    "from PIL import ImageFile                            \n",
    "ImageFile.LOAD_TRUNCATED_IMAGES = True\n",
    "import h5py\n",
    "import pickle\n",
    "# pre-process the data for Keras\n",
    "\n",
    "#train_tensors = paths_to_tensor(train_files[:2000]).astype('float32')/255\n",
    "\n",
    "def generators(x, y, n_batches=10):\n",
    "   \n",
    "    \"\"\" Return a generator that yields batches from arrays x and y. \"\"\"\n",
    "    batch_size = len(x)//n_batches\n",
    "    for ii in range(0, n_batches*batch_size, batch_size):\n",
    "        # If we're not on the last batch, grab data with size batch_size\n",
    "        if ii != (n_batches-1)*batch_size:\n",
    "            X, Y = x[ii: ii+batch_size], y[ii: ii+batch_size] \n",
    "            # On the last batch, grab the rest of the data\n",
    "        else:\n",
    "            X, Y = x[ii:], y[ii:]\n",
    "            # I love generators\n",
    "        X_tensors = paths_to_tensor(X).astype('float32')/255\n",
    "        yield X_tensors, Y\n",
    "#train_tensors = paths_to_tensor(train_files).astype('float32')/255\n",
    "valid_tensors = paths_to_tensor(valid_files).astype('float32')/255\n",
    "test_tensors = paths_to_tensor(test_files).astype('float32')/255\n"
   ]
  },
  {
   "cell_type": "markdown",
   "metadata": {},
   "source": [
    "**Note:**  : My system has limitation of RAM (6 GB) . Hence i commented the code of train_tensors. I used generator to pick the batch of 668 images and convert into train_tensors. "
   ]
  },
  {
   "cell_type": "markdown",
   "metadata": {},
   "source": [
    "### (IMPLEMENTATION) Model Architecture\n",
    "\n",
    "Create a CNN to classify dog breed.  At the end of your code cell block, summarize the layers of your model by executing the line:\n",
    "    \n",
    "        model.summary()\n",
    "\n",
    "We have imported some Python modules to get you started, but feel free to import as many modules as you need.  If you end up getting stuck, here's a hint that specifies a model that trains relatively fast on CPU and attains >1% test accuracy in 5 epochs:\n",
    "\n",
    "![Sample CNN](images/sample_cnn.png)\n",
    "           \n",
    "__Question 4:__ Outline the steps you took to get to your final CNN architecture and your reasoning at each step.  If you chose to use the hinted architecture above, describe why you think that CNN architecture should work well for the image classification task.\n",
    "\n",
    "__Answer:__ \n",
    "I have chossen to implement above suggested architecture. I think it is good enough because if we go for more deeper model it will tend to overfit because we are having just 6680 training images.\n",
    "I have 3 CNN layer and maxpoling after every CNN layer and then i had used Global Average pooling layes , a dense layer with softmax activation.\n",
    "\n",
    "**Why CNN Layers**\n",
    "Used CNN becuase it is good for feature extraction and that will help in breed classification. It is state of art classification which give btter accuracy as compare to neural netwrok.\n",
    "\n",
    "**Why RelU?**\n",
    "\n",
    "RelU is used to add non relearity and help in generalizion of model.\n",
    "\n",
    "**why Maxpooling**\n",
    "This will help to reduce the number of parameter and help is better genarlization.it makes detection of ceratin feature invariant to scale and orientation changes of \n",
    "\n",
    "**Global Avaergae Pooling**\n",
    "This will help reducing reducing the parameter which result into faster training reducing memory usage.\n",
    "\n",
    "**why dense with Softmax activation**\n",
    "Dense layer is linear operation in which every input is connected to every output by a weight. Dense layer is used in the end with softmax activation to give probability of each breed in image.\n"
   ]
  },
  {
   "cell_type": "code",
   "execution_count": 25,
   "metadata": {},
   "outputs": [
    {
     "name": "stdout",
     "output_type": "stream",
     "text": [
      "_________________________________________________________________\n",
      "Layer (type)                 Output Shape              Param #   \n",
      "=================================================================\n",
      "conv2d_1 (Conv2D)            (None, 223, 223, 16)      208       \n",
      "_________________________________________________________________\n",
      "max_pooling2d_4 (MaxPooling2 (None, 111, 111, 16)      0         \n",
      "_________________________________________________________________\n",
      "conv2d_2 (Conv2D)            (None, 110, 110, 32)      2080      \n",
      "_________________________________________________________________\n",
      "max_pooling2d_5 (MaxPooling2 (None, 55, 55, 32)        0         \n",
      "_________________________________________________________________\n",
      "conv2d_3 (Conv2D)            (None, 54, 54, 64)        8256      \n",
      "_________________________________________________________________\n",
      "max_pooling2d_6 (MaxPooling2 (None, 27, 27, 64)        0         \n",
      "_________________________________________________________________\n",
      "global_average_pooling2d_1 ( (None, 64)                0         \n",
      "_________________________________________________________________\n",
      "dense_1 (Dense)              (None, 133)               8645      \n",
      "_________________________________________________________________\n",
      "activation_148 (Activation)  (None, 133)               0         \n",
      "=================================================================\n",
      "Total params: 19,189\n",
      "Trainable params: 19,189\n",
      "Non-trainable params: 0\n",
      "_________________________________________________________________\n"
     ]
    }
   ],
   "source": [
    "from keras.layers import Conv2D, MaxPooling2D, GlobalAveragePooling2D\n",
    "from keras.layers import Dropout, Flatten, Dense\n",
    "from keras.models import Sequential\n",
    "from keras.layers.core import Dense, Activation, Flatten, Dropout\n",
    "from keras.layers.convolutional import Convolution2D\n",
    "from keras.layers.pooling import MaxPooling2D\n",
    "from sklearn.model_selection import train_test_split\n",
    "from keras.layers import Lambda\n",
    "import sklearn\n",
    "from sklearn.utils import shuffle\n",
    "\n",
    "def simple_model():\n",
    "    model = Sequential()\n",
    "    #model.add(Lambda(lambda x: x /255 - 0.5, input_shape=(223,223,3), output_shape=(223,223,3)))\n",
    "    model.add(Conv2D(filters=16,kernel_size=2,activation='relu', input_shape=(224,224,3)))\n",
    "    model.add(MaxPooling2D(pool_size=(2,2),strides=2))\n",
    "    model.add(Conv2D(filters=32,kernel_size=2,activation='relu', input_shape=(110,110,32)))\n",
    "    model.add(MaxPooling2D(pool_size=(2,2),strides=2))\n",
    "    model.add(Conv2D(filters=64,kernel_size=2,activation='relu', input_shape=(55,55,32)))\n",
    "    model.add(MaxPooling2D(pool_size=(2,2),strides=2))\n",
    "    model.add(GlobalAveragePooling2D(data_format=None))\n",
    "    model.add(Dense(133, input_dim=64))\n",
    "    model.add(Activation('softmax'))\n",
    "    return model\n",
    "    \n",
    "\n",
    "    \n",
    " \n",
    "#### TODO: Define your architecture.\n",
    "model = simple_model()\n",
    "\n",
    "model.summary()"
   ]
  },
  {
   "cell_type": "markdown",
   "metadata": {},
   "source": [
    "### Compile the Model"
   ]
  },
  {
   "cell_type": "code",
   "execution_count": 63,
   "metadata": {
    "collapsed": true
   },
   "outputs": [],
   "source": [
    "model.compile(optimizer='rmsprop', loss='categorical_crossentropy', metrics=['accuracy'])"
   ]
  },
  {
   "cell_type": "markdown",
   "metadata": {},
   "source": [
    "### (IMPLEMENTATION) Train the Model\n",
    "\n",
    "Train your model in the code cell below.  Use model checkpointing to save the model that attains the best validation loss.\n",
    "\n",
    "You are welcome to [augment the training data](https://blog.keras.io/building-powerful-image-classification-models-using-very-little-data.html), but this is not a requirement. "
   ]
  },
  {
   "cell_type": "code",
   "execution_count": 64,
   "metadata": {},
   "outputs": [
    {
     "name": "stderr",
     "output_type": "stream",
     "text": [
      "100%|██████████| 668/668 [00:08<00:00, 75.57it/s]\n"
     ]
    },
    {
     "name": "stdout",
     "output_type": "stream",
     "text": [
      "Train on 668 samples, validate on 835 samples\n",
      "Epoch 1/30\n",
      "650/668 [============================>.] - ETA: 0s - loss: 4.8915 - acc: 0.0092Epoch 00000: val_loss improved from inf to 4.88866, saving model to saved_models/weights.best.from_scratch.hdf5\n",
      "668/668 [==============================] - 15s - loss: 4.8913 - acc: 0.0090 - val_loss: 4.8887 - val_acc: 0.0072\n",
      "Epoch 2/30\n",
      "650/668 [============================>.] - ETA: 0s - loss: 4.8735 - acc: 0.0138Epoch 00001: val_loss did not improve\n",
      "668/668 [==============================] - 1s - loss: 4.8745 - acc: 0.0135 - val_loss: 4.8890 - val_acc: 0.0072\n",
      "Epoch 3/30\n",
      "650/668 [============================>.] - ETA: 0s - loss: 4.8590 - acc: 0.0138Epoch 00002: val_loss did not improve\n",
      "668/668 [==============================] - 1s - loss: 4.8582 - acc: 0.0135 - val_loss: 4.8954 - val_acc: 0.0072\n",
      "Epoch 4/30\n",
      "650/668 [============================>.] - ETA: 0s - loss: 4.8432 - acc: 0.0108Epoch 00003: val_loss did not improve\n",
      "668/668 [==============================] - 1s - loss: 4.8435 - acc: 0.0105 - val_loss: 4.9048 - val_acc: 0.0072\n",
      "Epoch 5/30\n",
      "650/668 [============================>.] - ETA: 0s - loss: 4.8293 - acc: 0.0185Epoch 00004: val_loss did not improve\n",
      "668/668 [==============================] - 1s - loss: 4.8296 - acc: 0.0180 - val_loss: 4.9084 - val_acc: 0.0096\n",
      "Epoch 6/30\n",
      "650/668 [============================>.] - ETA: 0s - loss: 4.8271 - acc: 0.0169Epoch 00005: val_loss did not improve\n",
      "668/668 [==============================] - 1s - loss: 4.8238 - acc: 0.0165 - val_loss: 4.9268 - val_acc: 0.0108\n",
      "Epoch 7/30\n",
      "650/668 [============================>.] - ETA: 0s - loss: 4.8189 - acc: 0.0154Epoch 00006: val_loss did not improve\n",
      "668/668 [==============================] - 1s - loss: 4.8184 - acc: 0.0150 - val_loss: 4.9297 - val_acc: 0.0096\n",
      "Epoch 8/30\n",
      "650/668 [============================>.] - ETA: 0s - loss: 4.8101 - acc: 0.0169Epoch 00007: val_loss did not improve\n",
      "668/668 [==============================] - 1s - loss: 4.8129 - acc: 0.0165 - val_loss: 4.9103 - val_acc: 0.0108\n",
      "Epoch 9/30\n",
      "650/668 [============================>.] - ETA: 0s - loss: 4.8105 - acc: 0.0169Epoch 00008: val_loss did not improve\n",
      "668/668 [==============================] - 1s - loss: 4.8091 - acc: 0.0165 - val_loss: 4.9308 - val_acc: 0.0108\n",
      "Epoch 10/30\n",
      "650/668 [============================>.] - ETA: 0s - loss: 4.8076 - acc: 0.0169Epoch 00009: val_loss did not improve\n",
      "668/668 [==============================] - 1s - loss: 4.8060 - acc: 0.0165 - val_loss: 4.9250 - val_acc: 0.0096\n",
      "Epoch 11/30\n",
      "650/668 [============================>.] - ETA: 0s - loss: 4.8015 - acc: 0.0200Epoch 00010: val_loss did not improve\n",
      "668/668 [==============================] - 1s - loss: 4.8020 - acc: 0.0210 - val_loss: 4.9313 - val_acc: 0.0120\n",
      "Epoch 12/30\n",
      "650/668 [============================>.] - ETA: 0s - loss: 4.8001 - acc: 0.0200Epoch 00011: val_loss did not improve\n",
      "668/668 [==============================] - 1s - loss: 4.7980 - acc: 0.0195 - val_loss: 4.9299 - val_acc: 0.0108\n",
      "Epoch 13/30\n",
      "650/668 [============================>.] - ETA: 0s - loss: 4.7924 - acc: 0.0200Epoch 00012: val_loss did not improve\n",
      "668/668 [==============================] - 1s - loss: 4.7949 - acc: 0.0195 - val_loss: 4.9369 - val_acc: 0.0084\n",
      "Epoch 14/30\n",
      "650/668 [============================>.] - ETA: 0s - loss: 4.7907 - acc: 0.0215Epoch 00013: val_loss did not improve\n",
      "668/668 [==============================] - 1s - loss: 4.7902 - acc: 0.0210 - val_loss: 4.9600 - val_acc: 0.0096\n",
      "Epoch 15/30\n",
      "650/668 [============================>.] - ETA: 0s - loss: 4.7899 - acc: 0.0123Epoch 00014: val_loss did not improve\n",
      "668/668 [==============================] - 1s - loss: 4.7895 - acc: 0.0120 - val_loss: 4.9400 - val_acc: 0.0120\n",
      "Epoch 16/30\n",
      "650/668 [============================>.] - ETA: 0s - loss: 4.7793 - acc: 0.0185Epoch 00015: val_loss did not improve\n",
      "668/668 [==============================] - 1s - loss: 4.7851 - acc: 0.0180 - val_loss: 4.9285 - val_acc: 0.0096\n",
      "Epoch 17/30\n",
      "650/668 [============================>.] - ETA: 0s - loss: 4.7769 - acc: 0.0246- ETA: 0s - loss: 4.7644 - acc: Epoch 00016: val_loss did not improve\n",
      "668/668 [==============================] - 1s - loss: 4.7795 - acc: 0.0240 - val_loss: 4.9239 - val_acc: 0.0108\n",
      "Epoch 18/30\n",
      "650/668 [============================>.] - ETA: 0s - loss: 4.7754 - acc: 0.0185Epoch 00017: val_loss did not improve\n",
      "668/668 [==============================] - 1s - loss: 4.7759 - acc: 0.0180 - val_loss: 4.9265 - val_acc: 0.0108\n",
      "Epoch 19/30\n",
      "650/668 [============================>.] - ETA: 0s - loss: 4.7715 - acc: 0.0154Epoch 00018: val_loss did not improve\n",
      "668/668 [==============================] - 1s - loss: 4.7711 - acc: 0.0150 - val_loss: 4.9503 - val_acc: 0.0096\n",
      "Epoch 20/30\n",
      "650/668 [============================>.] - ETA: 0s - loss: 4.7667 - acc: 0.0185Epoch 00019: val_loss did not improve\n",
      "668/668 [==============================] - 1s - loss: 4.7675 - acc: 0.0180 - val_loss: 4.9436 - val_acc: 0.0096\n",
      "Epoch 21/30\n",
      "650/668 [============================>.] - ETA: 0s - loss: 4.7687 - acc: 0.0185Epoch 00020: val_loss did not improve\n",
      "668/668 [==============================] - 1s - loss: 4.7624 - acc: 0.0210 - val_loss: 4.9747 - val_acc: 0.0108\n",
      "Epoch 22/30\n",
      "650/668 [============================>.] - ETA: 0s - loss: 4.7586 - acc: 0.0231Epoch 00021: val_loss did not improve\n",
      "668/668 [==============================] - 1s - loss: 4.7560 - acc: 0.0225 - val_loss: 4.9763 - val_acc: 0.0132\n",
      "Epoch 23/30\n",
      "650/668 [============================>.] - ETA: 0s - loss: 4.7529 - acc: 0.0169Epoch 00022: val_loss did not improve\n",
      "668/668 [==============================] - 1s - loss: 4.7512 - acc: 0.0165 - val_loss: 4.9706 - val_acc: 0.0132\n",
      "Epoch 24/30\n",
      "650/668 [============================>.] - ETA: 0s - loss: 4.7460 - acc: 0.0123Epoch 00023: val_loss did not improve\n",
      "668/668 [==============================] - 1s - loss: 4.7442 - acc: 0.0135 - val_loss: 4.9677 - val_acc: 0.0120\n",
      "Epoch 25/30\n",
      "650/668 [============================>.] - ETA: 0s - loss: 4.7354 - acc: 0.0200Epoch 00024: val_loss did not improve\n",
      "668/668 [==============================] - 1s - loss: 4.7397 - acc: 0.0210 - val_loss: 4.9568 - val_acc: 0.0108\n",
      "Epoch 26/30\n",
      "650/668 [============================>.] - ETA: 0s - loss: 4.7240 - acc: 0.0215Epoch 00025: val_loss did not improve\n",
      "668/668 [==============================] - 1s - loss: 4.7269 - acc: 0.0210 - val_loss: 4.9647 - val_acc: 0.0108\n",
      "Epoch 27/30\n",
      "650/668 [============================>.] - ETA: 0s - loss: 4.7237 - acc: 0.0200Epoch 00026: val_loss did not improve\n",
      "668/668 [==============================] - 1s - loss: 4.7246 - acc: 0.0195 - val_loss: 5.0222 - val_acc: 0.0120\n",
      "Epoch 28/30\n",
      "650/668 [============================>.] - ETA: 0s - loss: 4.7157 - acc: 0.0200Epoch 00027: val_loss did not improve\n",
      "668/668 [==============================] - 1s - loss: 4.7163 - acc: 0.0210 - val_loss: 4.9626 - val_acc: 0.0084\n",
      "Epoch 29/30\n",
      "650/668 [============================>.] - ETA: 0s - loss: 4.7058 - acc: 0.0231Epoch 00028: val_loss did not improve\n",
      "668/668 [==============================] - 1s - loss: 4.7095 - acc: 0.0225 - val_loss: 4.9945 - val_acc: 0.0132\n",
      "Epoch 30/30\n",
      "650/668 [============================>.] - ETA: 0s - loss: 4.7069 - acc: 0.0200Epoch 00029: val_loss did not improve\n",
      "668/668 [==============================] - 1s - loss: 4.7037 - acc: 0.0210 - val_loss: 4.9800 - val_acc: 0.0132"
     ]
    },
    {
     "name": "stderr",
     "output_type": "stream",
     "text": [
      "  0%|          | 1/668 [00:00<01:47,  6.19it/s]"
     ]
    },
    {
     "name": "stdout",
     "output_type": "stream",
     "text": [
      "\n"
     ]
    },
    {
     "name": "stderr",
     "output_type": "stream",
     "text": [
      "100%|██████████| 668/668 [00:09<00:00, 67.01it/s]\n"
     ]
    },
    {
     "name": "stdout",
     "output_type": "stream",
     "text": [
      "Train on 668 samples, validate on 835 samples\n",
      "Epoch 1/30\n",
      "650/668 [============================>.] - ETA: 0s - loss: 4.9075 - acc: 0.0138Epoch 00000: val_loss did not improve\n",
      "668/668 [==============================] - 2s - loss: 4.9055 - acc: 0.0135 - val_loss: 4.8940 - val_acc: 0.0096\n",
      "Epoch 2/30\n",
      "650/668 [============================>.] - ETA: 0s - loss: 4.8558 - acc: 0.0185Epoch 00001: val_loss improved from 4.88866 to 4.88683, saving model to saved_models/weights.best.from_scratch.hdf5\n",
      "668/668 [==============================] - 1s - loss: 4.8561 - acc: 0.0180 - val_loss: 4.8868 - val_acc: 0.0144\n",
      "Epoch 3/30\n",
      "650/668 [============================>.] - ETA: 0s - loss: 4.8372 - acc: 0.0108Epoch 00002: val_loss improved from 4.88683 to 4.87747, saving model to saved_models/weights.best.from_scratch.hdf5\n",
      "668/668 [==============================] - 1s - loss: 4.8377 - acc: 0.0105 - val_loss: 4.8775 - val_acc: 0.0072\n",
      "Epoch 4/30\n",
      "650/668 [============================>.] - ETA: 0s - loss: 4.8165 - acc: 0.0169Epoch 00003: val_loss did not improve\n",
      "668/668 [==============================] - 1s - loss: 4.8175 - acc: 0.0165 - val_loss: 4.8813 - val_acc: 0.0120\n",
      "Epoch 5/30\n",
      "650/668 [============================>.] - ETA: 0s - loss: 4.8033 - acc: 0.0169Epoch 00004: val_loss did not improve\n",
      "668/668 [==============================] - 1s - loss: 4.8002 - acc: 0.0165 - val_loss: 4.8909 - val_acc: 0.0096\n",
      "Epoch 6/30\n",
      "650/668 [============================>.] - ETA: 0s - loss: 4.7735 - acc: 0.0185Epoch 00005: val_loss did not improve\n",
      "668/668 [==============================] - 1s - loss: 4.7780 - acc: 0.0180 - val_loss: 4.8797 - val_acc: 0.0156\n",
      "Epoch 7/30\n",
      "650/668 [============================>.] - ETA: 0s - loss: 4.7641 - acc: 0.0200Epoch 00006: val_loss did not improve\n",
      "668/668 [==============================] - 1s - loss: 4.7611 - acc: 0.0210 - val_loss: 4.8906 - val_acc: 0.0132\n",
      "Epoch 8/30\n",
      "650/668 [============================>.] - ETA: 0s - loss: 4.7483 - acc: 0.0154Epoch 00007: val_loss did not improve\n",
      "668/668 [==============================] - 1s - loss: 4.7435 - acc: 0.0165 - val_loss: 4.9074 - val_acc: 0.0096\n",
      "Epoch 9/30\n",
      "650/668 [============================>.] - ETA: 0s - loss: 4.7268 - acc: 0.0277Epoch 00008: val_loss did not improve\n",
      "668/668 [==============================] - 1s - loss: 4.7267 - acc: 0.0269 - val_loss: 4.9032 - val_acc: 0.0108\n",
      "Epoch 10/30\n",
      "650/668 [============================>.] - ETA: 0s - loss: 4.7171 - acc: 0.0231Epoch 00009: val_loss did not improve\n",
      "668/668 [==============================] - 1s - loss: 4.7117 - acc: 0.0240 - val_loss: 4.9201 - val_acc: 0.0120\n",
      "Epoch 11/30\n",
      "650/668 [============================>.] - ETA: 0s - loss: 4.6911 - acc: 0.0231Epoch 00010: val_loss did not improve\n",
      "668/668 [==============================] - 1s - loss: 4.6917 - acc: 0.0225 - val_loss: 4.9109 - val_acc: 0.0108\n",
      "Epoch 12/30\n",
      "650/668 [============================>.] - ETA: 0s - loss: 4.6816 - acc: 0.0246Epoch 00011: val_loss did not improve\n",
      "668/668 [==============================] - 1s - loss: 4.6799 - acc: 0.0254 - val_loss: 4.9081 - val_acc: 0.0072\n",
      "Epoch 13/30\n",
      "650/668 [============================>.] - ETA: 0s - loss: 4.6598 - acc: 0.0231Epoch 00012: val_loss did not improve\n",
      "668/668 [==============================] - 1s - loss: 4.6630 - acc: 0.0225 - val_loss: 4.9118 - val_acc: 0.0096\n",
      "Epoch 14/30\n",
      "650/668 [============================>.] - ETA: 0s - loss: 4.6489 - acc: 0.0277Epoch 00013: val_loss did not improve\n",
      "668/668 [==============================] - 1s - loss: 4.6491 - acc: 0.0269 - val_loss: 4.9244 - val_acc: 0.0120\n",
      "Epoch 15/30\n",
      "650/668 [============================>.] - ETA: 0s - loss: 4.6367 - acc: 0.0246Epoch 00014: val_loss did not improve\n",
      "668/668 [==============================] - 1s - loss: 4.6346 - acc: 0.0240 - val_loss: 4.9249 - val_acc: 0.0120\n",
      "Epoch 16/30\n",
      "650/668 [============================>.] - ETA: 0s - loss: 4.6245 - acc: 0.0231Epoch 00015: val_loss did not improve\n",
      "668/668 [==============================] - 1s - loss: 4.6217 - acc: 0.0225 - val_loss: 4.9370 - val_acc: 0.0144\n",
      "Epoch 17/30\n",
      "650/668 [============================>.] - ETA: 0s - loss: 4.6060 - acc: 0.0323Epoch 00016: val_loss did not improve\n",
      "668/668 [==============================] - 1s - loss: 4.6046 - acc: 0.0314 - val_loss: 4.9331 - val_acc: 0.0096\n",
      "Epoch 18/30\n",
      "650/668 [============================>.] - ETA: 0s - loss: 4.5868 - acc: 0.0323Epoch 00017: val_loss did not improve\n",
      "668/668 [==============================] - 1s - loss: 4.5886 - acc: 0.0314 - val_loss: 4.9418 - val_acc: 0.0120\n",
      "Epoch 19/30\n",
      "650/668 [============================>.] - ETA: 0s - loss: 4.5818 - acc: 0.0308Epoch 00018: val_loss did not improve\n",
      "668/668 [==============================] - 1s - loss: 4.5796 - acc: 0.0314 - val_loss: 4.9599 - val_acc: 0.0072\n",
      "Epoch 20/30\n",
      "650/668 [============================>.] - ETA: 0s - loss: 4.5605 - acc: 0.0338Epoch 00019: val_loss did not improve\n",
      "668/668 [==============================] - 1s - loss: 4.5654 - acc: 0.0329 - val_loss: 4.9508 - val_acc: 0.0072\n",
      "Epoch 21/30\n",
      "650/668 [============================>.] - ETA: 0s - loss: 4.5593 - acc: 0.0215Epoch 00020: val_loss did not improve\n",
      "668/668 [==============================] - 1s - loss: 4.5578 - acc: 0.0225 - val_loss: 5.0203 - val_acc: 0.0144\n",
      "Epoch 22/30\n",
      "650/668 [============================>.] - ETA: 0s - loss: 4.5501 - acc: 0.0308Epoch 00021: val_loss did not improve\n",
      "668/668 [==============================] - 1s - loss: 4.5454 - acc: 0.0314 - val_loss: 4.9836 - val_acc: 0.0144\n",
      "Epoch 23/30\n",
      "650/668 [============================>.] - ETA: 0s - loss: 4.5375 - acc: 0.0415Epoch 00022: val_loss did not improve\n",
      "668/668 [==============================] - 1s - loss: 4.5368 - acc: 0.0404 - val_loss: 4.9745 - val_acc: 0.0120\n",
      "Epoch 24/30\n",
      "650/668 [============================>.] - ETA: 0s - loss: 4.5122 - acc: 0.0415Epoch 00023: val_loss did not improve\n",
      "668/668 [==============================] - 1s - loss: 4.5145 - acc: 0.0404 - val_loss: 4.9819 - val_acc: 0.0072\n",
      "Epoch 25/30\n",
      "650/668 [============================>.] - ETA: 0s - loss: 4.5014 - acc: 0.0400Epoch 00024: val_loss did not improve\n",
      "668/668 [==============================] - 1s - loss: 4.5097 - acc: 0.0404 - val_loss: 4.9996 - val_acc: 0.0084\n",
      "Epoch 26/30\n",
      "650/668 [============================>.] - ETA: 0s - loss: 4.5005 - acc: 0.0323Epoch 00025: val_loss did not improve\n",
      "668/668 [==============================] - 1s - loss: 4.5032 - acc: 0.0314 - val_loss: 4.9874 - val_acc: 0.0144\n",
      "Epoch 27/30\n",
      "650/668 [============================>.] - ETA: 0s - loss: 4.4817 - acc: 0.0400Epoch 00026: val_loss did not improve\n",
      "668/668 [==============================] - 1s - loss: 4.4865 - acc: 0.0389 - val_loss: 5.0045 - val_acc: 0.0084\n",
      "Epoch 28/30\n",
      "650/668 [============================>.] - ETA: 0s - loss: 4.4767 - acc: 0.0415Epoch 00027: val_loss did not improve\n",
      "668/668 [==============================] - 1s - loss: 4.4745 - acc: 0.0404 - val_loss: 5.0384 - val_acc: 0.0108\n",
      "Epoch 29/30\n",
      "650/668 [============================>.] - ETA: 0s - loss: 4.4678 - acc: 0.0400Epoch 00028: val_loss did not improve\n",
      "668/668 [==============================] - 1s - loss: 4.4690 - acc: 0.0389 - val_loss: 5.0204 - val_acc: 0.0096\n",
      "Epoch 30/30\n",
      "650/668 [============================>.] - ETA: 0s - loss: 4.4640 - acc: 0.0354Epoch 00029: val_loss did not improve\n",
      "668/668 [==============================] - 1s - loss: 4.4612 - acc: 0.0344 - val_loss: 5.0610 - val_acc: 0.0072"
     ]
    },
    {
     "name": "stderr",
     "output_type": "stream",
     "text": [
      "  0%|          | 1/668 [00:00<01:14,  8.97it/s]"
     ]
    },
    {
     "name": "stdout",
     "output_type": "stream",
     "text": [
      "\n"
     ]
    },
    {
     "name": "stderr",
     "output_type": "stream",
     "text": [
      "100%|██████████| 668/668 [00:08<00:00, 61.95it/s]\n"
     ]
    },
    {
     "name": "stdout",
     "output_type": "stream",
     "text": [
      "Train on 668 samples, validate on 835 samples\n",
      "Epoch 1/30\n",
      "650/668 [============================>.] - ETA: 0s - loss: 4.9843 - acc: 0.0031 Epoch 00000: val_loss did not improve\n",
      "668/668 [==============================] - 1s - loss: 4.9864 - acc: 0.0045 - val_loss: 4.8916 - val_acc: 0.0192\n",
      "Epoch 2/30\n",
      "650/668 [============================>.] - ETA: 0s - loss: 4.8475 - acc: 0.0154Epoch 00001: val_loss improved from 4.87747 to 4.84361, saving model to saved_models/weights.best.from_scratch.hdf5\n",
      "668/668 [==============================] - 1s - loss: 4.8547 - acc: 0.0165 - val_loss: 4.8436 - val_acc: 0.0192\n",
      "Epoch 3/30\n",
      "650/668 [============================>.] - ETA: 0s - loss: 4.8037 - acc: 0.0246Epoch 00002: val_loss improved from 4.84361 to 4.83573, saving model to saved_models/weights.best.from_scratch.hdf5\n",
      "668/668 [==============================] - 1s - loss: 4.8023 - acc: 0.0240 - val_loss: 4.8357 - val_acc: 0.0192\n",
      "Epoch 4/30\n",
      "650/668 [============================>.] - ETA: 0s - loss: 4.7755 - acc: 0.0200Epoch 00003: val_loss did not improve\n",
      "668/668 [==============================] - 1s - loss: 4.7782 - acc: 0.0195 - val_loss: 4.8362 - val_acc: 0.0216\n",
      "Epoch 5/30\n",
      "650/668 [============================>.] - ETA: 0s - loss: 4.7475 - acc: 0.0185Epoch 00004: val_loss did not improve\n",
      "668/668 [==============================] - 1s - loss: 4.7413 - acc: 0.0180 - val_loss: 4.8360 - val_acc: 0.0204\n",
      "Epoch 6/30\n",
      "650/668 [============================>.] - ETA: 0s - loss: 4.7212 - acc: 0.0246Epoch 00005: val_loss did not improve\n",
      "668/668 [==============================] - 1s - loss: 4.7216 - acc: 0.0254 - val_loss: 4.8405 - val_acc: 0.0192\n",
      "Epoch 7/30\n",
      "650/668 [============================>.] - ETA: 0s - loss: 4.6998 - acc: 0.0338Epoch 00006: val_loss did not improve\n",
      "668/668 [==============================] - 1s - loss: 4.6997 - acc: 0.0329 - val_loss: 4.8528 - val_acc: 0.0192\n",
      "Epoch 8/30\n",
      "650/668 [============================>.] - ETA: 0s - loss: 4.6806 - acc: 0.0338Epoch 00007: val_loss did not improve\n",
      "668/668 [==============================] - 1s - loss: 4.6737 - acc: 0.0344 - val_loss: 4.8608 - val_acc: 0.0168\n",
      "Epoch 9/30\n",
      "650/668 [============================>.] - ETA: 0s - loss: 4.6544 - acc: 0.0277Epoch 00008: val_loss did not improve\n",
      "668/668 [==============================] - 1s - loss: 4.6516 - acc: 0.0284 - val_loss: 4.8622 - val_acc: 0.0180\n",
      "Epoch 10/30\n",
      "650/668 [============================>.] - ETA: 0s - loss: 4.6231 - acc: 0.0277Epoch 00009: val_loss did not improve\n",
      "668/668 [==============================] - 1s - loss: 4.6345 - acc: 0.0269 - val_loss: 4.8645 - val_acc: 0.0168\n",
      "Epoch 11/30\n",
      "650/668 [============================>.] - ETA: 0s - loss: 4.6235 - acc: 0.0354Epoch 00010: val_loss did not improve\n",
      "668/668 [==============================] - 1s - loss: 4.6179 - acc: 0.0359 - val_loss: 4.8801 - val_acc: 0.0180\n",
      "Epoch 12/30\n",
      "650/668 [============================>.] - ETA: 0s - loss: 4.6021 - acc: 0.0354Epoch 00011: val_loss did not improve\n",
      "668/668 [==============================] - 1s - loss: 4.6114 - acc: 0.0344 - val_loss: 4.8803 - val_acc: 0.0216\n",
      "Epoch 13/30\n",
      "650/668 [============================>.] - ETA: 0s - loss: 4.5827 - acc: 0.0338Epoch 00012: val_loss did not improve\n",
      "668/668 [==============================] - 1s - loss: 4.5841 - acc: 0.0329 - val_loss: 4.9175 - val_acc: 0.0192\n",
      "Epoch 14/30\n",
      "650/668 [============================>.] - ETA: 0s - loss: 4.5756 - acc: 0.0277Epoch 00013: val_loss did not improve\n",
      "668/668 [==============================] - 1s - loss: 4.5784 - acc: 0.0284 - val_loss: 4.8991 - val_acc: 0.0156\n",
      "Epoch 15/30\n",
      "650/668 [============================>.] - ETA: 0s - loss: 4.5589 - acc: 0.0308Epoch 00014: val_loss did not improve\n",
      "668/668 [==============================] - 1s - loss: 4.5591 - acc: 0.0299 - val_loss: 4.9217 - val_acc: 0.0204\n",
      "Epoch 16/30\n",
      "650/668 [============================>.] - ETA: 0s - loss: 4.5433 - acc: 0.0462Epoch 00015: val_loss did not improve\n",
      "668/668 [==============================] - 1s - loss: 4.5431 - acc: 0.0449 - val_loss: 4.9166 - val_acc: 0.0180\n",
      "Epoch 17/30\n",
      "650/668 [============================>.] - ETA: 0s - loss: 4.5204 - acc: 0.0369Epoch 00016: val_loss did not improve\n",
      "668/668 [==============================] - 1s - loss: 4.5294 - acc: 0.0359 - val_loss: 4.9349 - val_acc: 0.0168\n",
      "Epoch 18/30\n",
      "650/668 [============================>.] - ETA: 0s - loss: 4.5185 - acc: 0.0446Epoch 00017: val_loss did not improve\n",
      "668/668 [==============================] - 1s - loss: 4.5183 - acc: 0.0434 - val_loss: 4.9530 - val_acc: 0.0204\n",
      "Epoch 19/30\n",
      "650/668 [============================>.] - ETA: 0s - loss: 4.5045 - acc: 0.0323Epoch 00018: val_loss did not improve\n",
      "668/668 [==============================] - 1s - loss: 4.5039 - acc: 0.0329 - val_loss: 4.9392 - val_acc: 0.0192\n",
      "Epoch 20/30\n",
      "650/668 [============================>.] - ETA: 0s - loss: 4.4936 - acc: 0.0323Epoch 00019: val_loss did not improve\n",
      "668/668 [==============================] - 1s - loss: 4.4949 - acc: 0.0314 - val_loss: 4.9454 - val_acc: 0.0156\n",
      "Epoch 21/30\n",
      "650/668 [============================>.] - ETA: 0s - loss: 4.4777 - acc: 0.0462Epoch 00020: val_loss did not improve\n",
      "668/668 [==============================] - 1s - loss: 4.4778 - acc: 0.0464 - val_loss: 4.9640 - val_acc: 0.0204\n",
      "Epoch 22/30\n",
      "650/668 [============================>.] - ETA: 0s - loss: 4.4560 - acc: 0.0446Epoch 00021: val_loss did not improve\n",
      "668/668 [==============================] - 1s - loss: 4.4629 - acc: 0.0434 - val_loss: 4.9728 - val_acc: 0.0156\n",
      "Epoch 23/30\n",
      "650/668 [============================>.] - ETA: 0s - loss: 4.4716 - acc: 0.0354Epoch 00022: val_loss did not improve\n",
      "668/668 [==============================] - 1s - loss: 4.4586 - acc: 0.0374 - val_loss: 5.0189 - val_acc: 0.0204\n",
      "Epoch 24/30\n",
      "650/668 [============================>.] - ETA: 0s - loss: 4.4333 - acc: 0.0415Epoch 00023: val_loss did not improve\n",
      "668/668 [==============================] - 1s - loss: 4.4400 - acc: 0.0419 - val_loss: 5.0395 - val_acc: 0.0228\n",
      "Epoch 25/30\n",
      "650/668 [============================>.] - ETA: 0s - loss: 4.4361 - acc: 0.0415Epoch 00024: val_loss did not improve\n",
      "668/668 [==============================] - 1s - loss: 4.4394 - acc: 0.0404 - val_loss: 5.0007 - val_acc: 0.0204\n",
      "Epoch 26/30\n",
      "650/668 [============================>.] - ETA: 0s - loss: 4.4243 - acc: 0.0446Epoch 00025: val_loss did not improve\n",
      "668/668 [==============================] - 1s - loss: 4.4195 - acc: 0.0449 - val_loss: 5.0363 - val_acc: 0.0192\n",
      "Epoch 27/30\n",
      "650/668 [============================>.] - ETA: 0s - loss: 4.3989 - acc: 0.0477Epoch 00026: val_loss did not improve\n",
      "668/668 [==============================] - 1s - loss: 4.4083 - acc: 0.0464 - val_loss: 5.0044 - val_acc: 0.0156\n",
      "Epoch 28/30\n",
      "650/668 [============================>.] - ETA: 0s - loss: 4.3824 - acc: 0.0523Epoch 00027: val_loss did not improve\n",
      "668/668 [==============================] - 1s - loss: 4.3850 - acc: 0.0509 - val_loss: 5.0942 - val_acc: 0.0228\n",
      "Epoch 29/30\n",
      "650/668 [============================>.] - ETA: 0s - loss: 4.3673 - acc: 0.0523Epoch 00028: val_loss did not improve\n",
      "668/668 [==============================] - 1s - loss: 4.3786 - acc: 0.0509 - val_loss: 5.0803 - val_acc: 0.0204\n",
      "Epoch 30/30\n",
      "650/668 [============================>.] - ETA: 0s - loss: 4.3703 - acc: 0.0523Epoch 00029: val_loss did not improve\n",
      "668/668 [==============================] - 1s - loss: 4.3723 - acc: 0.0509 - val_loss: 5.0351 - val_acc: 0.0144"
     ]
    },
    {
     "name": "stderr",
     "output_type": "stream",
     "text": [
      "  1%|          | 4/668 [00:00<00:18, 36.84it/s]"
     ]
    },
    {
     "name": "stdout",
     "output_type": "stream",
     "text": [
      "\n"
     ]
    },
    {
     "name": "stderr",
     "output_type": "stream",
     "text": [
      "100%|██████████| 668/668 [00:08<00:00, 74.48it/s]\n"
     ]
    },
    {
     "name": "stdout",
     "output_type": "stream",
     "text": [
      "Train on 668 samples, validate on 835 samples\n",
      "Epoch 1/30\n",
      "650/668 [============================>.] - ETA: 0s - loss: 5.0196 - acc: 0.0154Epoch 00000: val_loss did not improve\n",
      "668/668 [==============================] - 1s - loss: 5.0178 - acc: 0.0150 - val_loss: 4.8650 - val_acc: 0.0240\n",
      "Epoch 2/30\n",
      "650/668 [============================>.] - ETA: 0s - loss: 4.8774 - acc: 0.0215Epoch 00001: val_loss did not improve\n",
      "668/668 [==============================] - 1s - loss: 4.8812 - acc: 0.0210 - val_loss: 4.8358 - val_acc: 0.0156\n",
      "Epoch 3/30\n",
      "650/668 [============================>.] - ETA: 0s - loss: 4.8172 - acc: 0.0246Epoch 00002: val_loss improved from 4.83573 to 4.82427, saving model to saved_models/weights.best.from_scratch.hdf5\n",
      "668/668 [==============================] - 1s - loss: 4.8249 - acc: 0.0240 - val_loss: 4.8243 - val_acc: 0.0216\n",
      "Epoch 4/30\n",
      "650/668 [============================>.] - ETA: 0s - loss: 4.7939 - acc: 0.0215Epoch 00003: val_loss improved from 4.82427 to 4.82211, saving model to saved_models/weights.best.from_scratch.hdf5\n",
      "668/668 [==============================] - 1s - loss: 4.7996 - acc: 0.0210 - val_loss: 4.8221 - val_acc: 0.0204\n",
      "Epoch 5/30\n",
      "650/668 [============================>.] - ETA: 0s - loss: 4.7804 - acc: 0.0262Epoch 00004: val_loss did not improve\n",
      "668/668 [==============================] - 1s - loss: 4.7753 - acc: 0.0254 - val_loss: 4.8271 - val_acc: 0.0263\n",
      "Epoch 6/30\n",
      "650/668 [============================>.] - ETA: 0s - loss: 4.7494 - acc: 0.0354Epoch 00005: val_loss did not improve\n",
      "668/668 [==============================] - 1s - loss: 4.7491 - acc: 0.0359 - val_loss: 4.8333 - val_acc: 0.0240\n",
      "Epoch 7/30\n",
      "650/668 [============================>.] - ETA: 0s - loss: 4.7323 - acc: 0.0215Epoch 00006: val_loss did not improve\n",
      "668/668 [==============================] - 1s - loss: 4.7297 - acc: 0.0225 - val_loss: 4.8257 - val_acc: 0.0216\n",
      "Epoch 8/30\n",
      "650/668 [============================>.] - ETA: 0s - loss: 4.7058 - acc: 0.0415Epoch 00007: val_loss did not improve\n",
      "668/668 [==============================] - 1s - loss: 4.7076 - acc: 0.0404 - val_loss: 4.8360 - val_acc: 0.0204\n",
      "Epoch 9/30\n",
      "650/668 [============================>.] - ETA: 0s - loss: 4.6841 - acc: 0.0338Epoch 00008: val_loss did not improve\n",
      "668/668 [==============================] - 1s - loss: 4.6850 - acc: 0.0344 - val_loss: 4.8706 - val_acc: 0.0216\n",
      "Epoch 10/30\n",
      "650/668 [============================>.] - ETA: 0s - loss: 4.6599 - acc: 0.0338Epoch 00009: val_loss did not improve\n",
      "668/668 [==============================] - 1s - loss: 4.6636 - acc: 0.0344 - val_loss: 4.8909 - val_acc: 0.0216\n",
      "Epoch 11/30\n",
      "650/668 [============================>.] - ETA: 0s - loss: 4.6547 - acc: 0.0338Epoch 00010: val_loss did not improve\n",
      "668/668 [==============================] - 1s - loss: 4.6512 - acc: 0.0329 - val_loss: 4.9084 - val_acc: 0.0192\n",
      "Epoch 12/30\n",
      "650/668 [============================>.] - ETA: 0s - loss: 4.6301 - acc: 0.0385Epoch 00011: val_loss did not improve\n",
      "668/668 [==============================] - 1s - loss: 4.6328 - acc: 0.0374 - val_loss: 4.8798 - val_acc: 0.0144\n",
      "Epoch 13/30\n",
      "650/668 [============================>.] - ETA: 0s - loss: 4.6082 - acc: 0.0323Epoch 00012: val_loss did not improve\n",
      "668/668 [==============================] - 1s - loss: 4.6125 - acc: 0.0329 - val_loss: 4.8940 - val_acc: 0.0204\n",
      "Epoch 14/30\n",
      "650/668 [============================>.] - ETA: 0s - loss: 4.5968 - acc: 0.0354Epoch 00013: val_loss did not improve\n",
      "668/668 [==============================] - 1s - loss: 4.5947 - acc: 0.0359 - val_loss: 4.8920 - val_acc: 0.0263\n",
      "Epoch 15/30\n",
      "650/668 [============================>.] - ETA: 0s - loss: 4.5758 - acc: 0.0400Epoch 00014: val_loss did not improve\n",
      "668/668 [==============================] - 1s - loss: 4.5764 - acc: 0.0389 - val_loss: 4.9253 - val_acc: 0.0251\n",
      "Epoch 16/30\n",
      "650/668 [============================>.] - ETA: 0s - loss: 4.5650 - acc: 0.0385Epoch 00015: val_loss did not improve\n",
      "668/668 [==============================] - 1s - loss: 4.5633 - acc: 0.0389 - val_loss: 4.9362 - val_acc: 0.0228\n",
      "Epoch 17/30\n",
      "650/668 [============================>.] - ETA: 0s - loss: 4.5427 - acc: 0.0385Epoch 00016: val_loss did not improve\n",
      "668/668 [==============================] - 1s - loss: 4.5433 - acc: 0.0389 - val_loss: 4.9577 - val_acc: 0.0204\n",
      "Epoch 18/30\n",
      "650/668 [============================>.] - ETA: 0s - loss: 4.5329 - acc: 0.0323Epoch 00017: val_loss did not improve\n",
      "668/668 [==============================] - 1s - loss: 4.5366 - acc: 0.0314 - val_loss: 4.9344 - val_acc: 0.0240\n",
      "Epoch 19/30\n",
      "650/668 [============================>.] - ETA: 0s - loss: 4.5096 - acc: 0.0338Epoch 00018: val_loss did not improve\n",
      "668/668 [==============================] - 1s - loss: 4.5100 - acc: 0.0344 - val_loss: 4.9782 - val_acc: 0.0216\n",
      "Epoch 20/30\n",
      "650/668 [============================>.] - ETA: 0s - loss: 4.5064 - acc: 0.0354Epoch 00019: val_loss did not improve\n",
      "668/668 [==============================] - 1s - loss: 4.5039 - acc: 0.0359 - val_loss: 4.9801 - val_acc: 0.0251\n",
      "Epoch 21/30\n",
      "650/668 [============================>.] - ETA: 0s - loss: 4.4852 - acc: 0.0323Epoch 00020: val_loss did not improve\n",
      "668/668 [==============================] - 1s - loss: 4.4866 - acc: 0.0314 - val_loss: 5.0123 - val_acc: 0.0240\n",
      "Epoch 22/30\n",
      "650/668 [============================>.] - ETA: 0s - loss: 4.4650 - acc: 0.0385Epoch 00021: val_loss did not improve\n",
      "668/668 [==============================] - 1s - loss: 4.4718 - acc: 0.0374 - val_loss: 5.0034 - val_acc: 0.0240\n",
      "Epoch 23/30\n",
      "650/668 [============================>.] - ETA: 0s - loss: 4.4637 - acc: 0.0338Epoch 00022: val_loss did not improve\n",
      "668/668 [==============================] - 1s - loss: 4.4589 - acc: 0.0359 - val_loss: 5.0259 - val_acc: 0.0240\n",
      "Epoch 24/30\n",
      "650/668 [============================>.] - ETA: 0s - loss: 4.4366 - acc: 0.0385Epoch 00023: val_loss did not improve\n",
      "668/668 [==============================] - 1s - loss: 4.4398 - acc: 0.0374 - val_loss: 5.0079 - val_acc: 0.0240\n",
      "Epoch 25/30\n",
      "650/668 [============================>.] - ETA: 0s - loss: 4.4258 - acc: 0.0415Epoch 00024: val_loss did not improve\n",
      "668/668 [==============================] - 1s - loss: 4.4257 - acc: 0.0404 - val_loss: 5.0685 - val_acc: 0.0311\n",
      "Epoch 26/30\n",
      "650/668 [============================>.] - ETA: 0s - loss: 4.4074 - acc: 0.0400Epoch 00025: val_loss did not improve\n",
      "668/668 [==============================] - 1s - loss: 4.4170 - acc: 0.0389 - val_loss: 5.0267 - val_acc: 0.0275\n",
      "Epoch 27/30\n",
      "650/668 [============================>.] - ETA: 0s - loss: 4.3974 - acc: 0.0431Epoch 00026: val_loss did not improve\n",
      "668/668 [==============================] - 1s - loss: 4.3985 - acc: 0.0419 - val_loss: 5.0691 - val_acc: 0.0216\n",
      "Epoch 28/30\n",
      "650/668 [============================>.] - ETA: 0s - loss: 4.3907 - acc: 0.0446Epoch 00027: val_loss did not improve\n",
      "668/668 [==============================] - 1s - loss: 4.3910 - acc: 0.0434 - val_loss: 5.0583 - val_acc: 0.0228\n",
      "Epoch 29/30\n",
      "650/668 [============================>.] - ETA: 0s - loss: 4.3738 - acc: 0.0415Epoch 00028: val_loss did not improve\n",
      "668/668 [==============================] - 1s - loss: 4.3729 - acc: 0.0419 - val_loss: 5.1344 - val_acc: 0.0263\n",
      "Epoch 30/30\n",
      "650/668 [============================>.] - ETA: 0s - loss: 4.3479 - acc: 0.0462Epoch 00029: val_loss did not improve\n",
      "668/668 [==============================] - 1s - loss: 4.3562 - acc: 0.0464 - val_loss: 5.1194 - val_acc: 0.0204"
     ]
    },
    {
     "name": "stderr",
     "output_type": "stream",
     "text": [
      "  1%|          | 8/668 [00:00<00:08, 74.98it/s]"
     ]
    },
    {
     "name": "stdout",
     "output_type": "stream",
     "text": [
      "\n"
     ]
    },
    {
     "name": "stderr",
     "output_type": "stream",
     "text": [
      "100%|██████████| 668/668 [00:09<00:00, 70.78it/s]\n"
     ]
    },
    {
     "name": "stdout",
     "output_type": "stream",
     "text": [
      "Train on 668 samples, validate on 835 samples\n",
      "Epoch 1/30\n",
      "650/668 [============================>.] - ETA: 0s - loss: 4.9780 - acc: 0.0231Epoch 00000: val_loss did not improve\n",
      "668/668 [==============================] - 1s - loss: 4.9790 - acc: 0.0225 - val_loss: 4.9255 - val_acc: 0.0216\n",
      "Epoch 2/30\n",
      "650/668 [============================>.] - ETA: 0s - loss: 4.8476 - acc: 0.0185Epoch 00001: val_loss did not improve\n",
      "668/668 [==============================] - 1s - loss: 4.8476 - acc: 0.0180 - val_loss: 4.8677 - val_acc: 0.0335\n",
      "Epoch 3/30\n",
      "650/668 [============================>.] - ETA: 0s - loss: 4.8038 - acc: 0.0292Epoch 00002: val_loss did not improve\n",
      "668/668 [==============================] - 1s - loss: 4.8014 - acc: 0.0299 - val_loss: 4.8459 - val_acc: 0.0335\n",
      "Epoch 4/30\n",
      "650/668 [============================>.] - ETA: 0s - loss: 4.7674 - acc: 0.0308Epoch 00003: val_loss did not improve\n",
      "668/668 [==============================] - 1s - loss: 4.7679 - acc: 0.0299 - val_loss: 4.8472 - val_acc: 0.0299\n",
      "Epoch 5/30\n",
      "650/668 [============================>.] - ETA: 0s - loss: 4.7346 - acc: 0.0277Epoch 00004: val_loss did not improve\n",
      "668/668 [==============================] - 1s - loss: 4.7356 - acc: 0.0299 - val_loss: 4.8303 - val_acc: 0.0323\n",
      "Epoch 6/30\n",
      "650/668 [============================>.] - ETA: 0s - loss: 4.7079 - acc: 0.0338Epoch 00005: val_loss did not improve\n",
      "668/668 [==============================] - 1s - loss: 4.7111 - acc: 0.0344 - val_loss: 4.8326 - val_acc: 0.0228\n",
      "Epoch 7/30\n",
      "650/668 [============================>.] - ETA: 0s - loss: 4.6907 - acc: 0.0369Epoch 00006: val_loss did not improve\n",
      "668/668 [==============================] - 1s - loss: 4.6811 - acc: 0.0389 - val_loss: 4.9043 - val_acc: 0.0192\n",
      "Epoch 8/30\n",
      "650/668 [============================>.] - ETA: 0s - loss: 4.6734 - acc: 0.0354Epoch 00007: val_loss did not improve\n",
      "668/668 [==============================] - 1s - loss: 4.6708 - acc: 0.0359 - val_loss: 4.8500 - val_acc: 0.0251\n",
      "Epoch 9/30\n",
      "650/668 [============================>.] - ETA: 0s - loss: 4.6333 - acc: 0.0338Epoch 00008: val_loss did not improve\n",
      "668/668 [==============================] - 1s - loss: 4.6369 - acc: 0.0329 - val_loss: 4.8410 - val_acc: 0.0263\n",
      "Epoch 10/30\n",
      "650/668 [============================>.] - ETA: 0s - loss: 4.6155 - acc: 0.0354Epoch 00009: val_loss did not improve\n",
      "668/668 [==============================] - 1s - loss: 4.6141 - acc: 0.0344 - val_loss: 4.8827 - val_acc: 0.0240\n",
      "Epoch 11/30\n",
      "650/668 [============================>.] - ETA: 0s - loss: 4.6047 - acc: 0.0292Epoch 00010: val_loss did not improve\n",
      "668/668 [==============================] - 1s - loss: 4.6025 - acc: 0.0299 - val_loss: 4.8779 - val_acc: 0.0180\n",
      "Epoch 12/30\n",
      "650/668 [============================>.] - ETA: 0s - loss: 4.5709 - acc: 0.0292Epoch 00011: val_loss did not improve\n",
      "668/668 [==============================] - 1s - loss: 4.5759 - acc: 0.0284 - val_loss: 4.8805 - val_acc: 0.0228\n",
      "Epoch 13/30\n",
      "650/668 [============================>.] - ETA: 0s - loss: 4.5534 - acc: 0.0385Epoch 00012: val_loss did not improve\n",
      "668/668 [==============================] - 1s - loss: 4.5584 - acc: 0.0389 - val_loss: 4.9003 - val_acc: 0.0168\n",
      "Epoch 14/30\n",
      "650/668 [============================>.] - ETA: 0s - loss: 4.5346 - acc: 0.0415Epoch 00013: val_loss did not improve\n",
      "668/668 [==============================] - 1s - loss: 4.5383 - acc: 0.0404 - val_loss: 4.8953 - val_acc: 0.0240\n",
      "Epoch 15/30\n",
      "650/668 [============================>.] - ETA: 0s - loss: 4.5233 - acc: 0.0400Epoch 00014: val_loss did not improve\n",
      "668/668 [==============================] - 1s - loss: 4.5247 - acc: 0.0389 - val_loss: 4.8971 - val_acc: 0.0156\n",
      "Epoch 16/30\n",
      "650/668 [============================>.] - ETA: 0s - loss: 4.4929 - acc: 0.0415Epoch 00015: val_loss did not improve\n",
      "668/668 [==============================] - 1s - loss: 4.5008 - acc: 0.0404 - val_loss: 4.8735 - val_acc: 0.0168\n",
      "Epoch 17/30\n",
      "650/668 [============================>.] - ETA: 0s - loss: 4.4955 - acc: 0.0477Epoch 00016: val_loss did not improve\n",
      "668/668 [==============================] - 1s - loss: 4.4905 - acc: 0.0494 - val_loss: 4.9303 - val_acc: 0.0228\n",
      "Epoch 18/30\n",
      "650/668 [============================>.] - ETA: 0s - loss: 4.4792 - acc: 0.0462Epoch 00017: val_loss did not improve\n",
      "668/668 [==============================] - 1s - loss: 4.4741 - acc: 0.0449 - val_loss: 4.9844 - val_acc: 0.0156\n",
      "Epoch 19/30\n",
      "650/668 [============================>.] - ETA: 0s - loss: 4.4590 - acc: 0.0569Epoch 00018: val_loss did not improve\n",
      "668/668 [==============================] - 1s - loss: 4.4626 - acc: 0.0554 - val_loss: 4.9124 - val_acc: 0.0168\n",
      "Epoch 20/30\n",
      "650/668 [============================>.] - ETA: 0s - loss: 4.4411 - acc: 0.0477Epoch 00019: val_loss did not improve\n",
      "668/668 [==============================] - 1s - loss: 4.4426 - acc: 0.0464 - val_loss: 4.9551 - val_acc: 0.0168\n",
      "Epoch 21/30\n",
      "650/668 [============================>.] - ETA: 0s - loss: 4.4353 - acc: 0.0477Epoch 00020: val_loss did not improve\n",
      "668/668 [==============================] - 1s - loss: 4.4294 - acc: 0.0479 - val_loss: 5.0053 - val_acc: 0.0168\n",
      "Epoch 22/30\n",
      "650/668 [============================>.] - ETA: 0s - loss: 4.4159 - acc: 0.0431Epoch 00021: val_loss did not improve\n",
      "668/668 [==============================] - 1s - loss: 4.4189 - acc: 0.0434 - val_loss: 4.9608 - val_acc: 0.0216\n",
      "Epoch 23/30\n",
      "650/668 [============================>.] - ETA: 0s - loss: 4.3966 - acc: 0.0523Epoch 00022: val_loss did not improve\n",
      "668/668 [==============================] - 1s - loss: 4.3969 - acc: 0.0509 - val_loss: 5.0283 - val_acc: 0.0156\n",
      "Epoch 24/30\n",
      "650/668 [============================>.] - ETA: 0s - loss: 4.3922 - acc: 0.0569Epoch 00023: val_loss did not improve\n",
      "668/668 [==============================] - 1s - loss: 4.3870 - acc: 0.0554 - val_loss: 5.0227 - val_acc: 0.0192\n",
      "Epoch 25/30\n",
      "650/668 [============================>.] - ETA: 0s - loss: 4.3766 - acc: 0.0477Epoch 00024: val_loss did not improve\n",
      "668/668 [==============================] - 1s - loss: 4.3757 - acc: 0.0479 - val_loss: 5.0241 - val_acc: 0.0144\n",
      "Epoch 26/30\n",
      "650/668 [============================>.] - ETA: 0s - loss: 4.3537 - acc: 0.0569Epoch 00025: val_loss did not improve\n",
      "668/668 [==============================] - 1s - loss: 4.3547 - acc: 0.0569 - val_loss: 4.9962 - val_acc: 0.0168\n",
      "Epoch 27/30\n",
      "650/668 [============================>.] - ETA: 0s - loss: 4.3366 - acc: 0.0585Epoch 00026: val_loss did not improve\n",
      "668/668 [==============================] - 1s - loss: 4.3491 - acc: 0.0584 - val_loss: 4.9959 - val_acc: 0.0168\n",
      "Epoch 28/30\n",
      "650/668 [============================>.] - ETA: 0s - loss: 4.3239 - acc: 0.0538Epoch 00027: val_loss did not improve\n",
      "668/668 [==============================] - 1s - loss: 4.3299 - acc: 0.0539 - val_loss: 5.0612 - val_acc: 0.0156\n",
      "Epoch 29/30\n",
      "650/668 [============================>.] - ETA: 0s - loss: 4.3218 - acc: 0.0554Epoch 00028: val_loss did not improve\n",
      "668/668 [==============================] - 1s - loss: 4.3206 - acc: 0.0569 - val_loss: 5.0183 - val_acc: 0.0168\n",
      "Epoch 30/30\n",
      "650/668 [============================>.] - ETA: 0s - loss: 4.3053 - acc: 0.0492Epoch 00029: val_loss did not improve\n",
      "668/668 [==============================] - 1s - loss: 4.3006 - acc: 0.0494 - val_loss: 5.1321 - val_acc: 0.0204"
     ]
    },
    {
     "name": "stderr",
     "output_type": "stream",
     "text": [
      "  1%|          | 8/668 [00:00<00:08, 73.51it/s]"
     ]
    },
    {
     "name": "stdout",
     "output_type": "stream",
     "text": [
      "\n"
     ]
    },
    {
     "name": "stderr",
     "output_type": "stream",
     "text": [
      "100%|██████████| 668/668 [00:08<00:00, 78.74it/s]\n"
     ]
    },
    {
     "name": "stdout",
     "output_type": "stream",
     "text": [
      "Train on 668 samples, validate on 835 samples\n",
      "Epoch 1/30\n",
      "650/668 [============================>.] - ETA: 0s - loss: 4.9955 - acc: 0.0246Epoch 00000: val_loss did not improve\n",
      "668/668 [==============================] - 1s - loss: 4.9863 - acc: 0.0254 - val_loss: 4.8570 - val_acc: 0.0287\n",
      "Epoch 2/30\n",
      "650/668 [============================>.] - ETA: 0s - loss: 4.8438 - acc: 0.0308Epoch 00001: val_loss did not improve\n",
      "668/668 [==============================] - 1s - loss: 4.8354 - acc: 0.0314 - val_loss: 4.8540 - val_acc: 0.0204\n",
      "Epoch 3/30\n",
      "650/668 [============================>.] - ETA: 0s - loss: 4.7942 - acc: 0.0354Epoch 00002: val_loss improved from 4.82211 to 4.80771, saving model to saved_models/weights.best.from_scratch.hdf5\n",
      "668/668 [==============================] - 1s - loss: 4.7927 - acc: 0.0344 - val_loss: 4.8077 - val_acc: 0.0263\n",
      "Epoch 4/30\n",
      "650/668 [============================>.] - ETA: 0s - loss: 4.7723 - acc: 0.0415Epoch 00003: val_loss improved from 4.80771 to 4.79103, saving model to saved_models/weights.best.from_scratch.hdf5\n",
      "668/668 [==============================] - 1s - loss: 4.7704 - acc: 0.0404 - val_loss: 4.7910 - val_acc: 0.0275\n",
      "Epoch 5/30\n",
      "650/668 [============================>.] - ETA: 0s - loss: 4.7251 - acc: 0.0431Epoch 00004: val_loss improved from 4.79103 to 4.78507, saving model to saved_models/weights.best.from_scratch.hdf5\n",
      "668/668 [==============================] - 1s - loss: 4.7326 - acc: 0.0419 - val_loss: 4.7851 - val_acc: 0.0287\n",
      "Epoch 6/30\n",
      "650/668 [============================>.] - ETA: 0s - loss: 4.6949 - acc: 0.0400Epoch 00005: val_loss did not improve\n",
      "668/668 [==============================] - 1s - loss: 4.6975 - acc: 0.0419 - val_loss: 4.8275 - val_acc: 0.0180\n",
      "Epoch 7/30\n",
      "650/668 [============================>.] - ETA: 0s - loss: 4.6840 - acc: 0.0431Epoch 00006: val_loss did not improve\n",
      "668/668 [==============================] - 1s - loss: 4.6820 - acc: 0.0434 - val_loss: 4.8061 - val_acc: 0.0275\n",
      "Epoch 8/30\n",
      "650/668 [============================>.] - ETA: 0s - loss: 4.6439 - acc: 0.0462Epoch 00007: val_loss did not improve\n",
      "668/668 [==============================] - 1s - loss: 4.6450 - acc: 0.0464 - val_loss: 4.8149 - val_acc: 0.0263\n",
      "Epoch 9/30\n",
      "650/668 [============================>.] - ETA: 0s - loss: 4.6245 - acc: 0.0508Epoch 00008: val_loss did not improve\n",
      "668/668 [==============================] - 1s - loss: 4.6231 - acc: 0.0509 - val_loss: 4.7905 - val_acc: 0.0216\n",
      "Epoch 10/30\n",
      "650/668 [============================>.] - ETA: 0s - loss: 4.5992 - acc: 0.0523Epoch 00009: val_loss did not improve\n",
      "668/668 [==============================] - 1s - loss: 4.5980 - acc: 0.0509 - val_loss: 4.8176 - val_acc: 0.0275\n",
      "Epoch 11/30\n",
      "650/668 [============================>.] - ETA: 0s - loss: 4.5740 - acc: 0.0462Epoch 00010: val_loss did not improve\n",
      "668/668 [==============================] - 1s - loss: 4.5828 - acc: 0.0464 - val_loss: 4.8025 - val_acc: 0.0204\n",
      "Epoch 12/30\n",
      "650/668 [============================>.] - ETA: 0s - loss: 4.5473 - acc: 0.0569Epoch 00011: val_loss did not improve\n",
      "668/668 [==============================] - 1s - loss: 4.5521 - acc: 0.0554 - val_loss: 4.8003 - val_acc: 0.0311\n",
      "Epoch 13/30\n",
      "650/668 [============================>.] - ETA: 0s - loss: 4.5373 - acc: 0.0462Epoch 00012: val_loss did not improve\n",
      "668/668 [==============================] - 1s - loss: 4.5382 - acc: 0.0479 - val_loss: 4.7981 - val_acc: 0.0311\n",
      "Epoch 14/30\n",
      "650/668 [============================>.] - ETA: 0s - loss: 4.5088 - acc: 0.0538Epoch 00013: val_loss did not improve\n",
      "668/668 [==============================] - 1s - loss: 4.5108 - acc: 0.0554 - val_loss: 4.8188 - val_acc: 0.0240\n",
      "Epoch 15/30\n",
      "650/668 [============================>.] - ETA: 0s - loss: 4.4953 - acc: 0.0585Epoch 00014: val_loss did not improve\n",
      "668/668 [==============================] - 1s - loss: 4.4912 - acc: 0.0584 - val_loss: 4.8743 - val_acc: 0.0216\n",
      "Epoch 16/30\n",
      "650/668 [============================>.] - ETA: 0s - loss: 4.4720 - acc: 0.0615Epoch 00015: val_loss did not improve\n",
      "668/668 [==============================] - 1s - loss: 4.4774 - acc: 0.0614 - val_loss: 4.8285 - val_acc: 0.0275\n",
      "Epoch 17/30\n",
      "650/668 [============================>.] - ETA: 0s - loss: 4.4591 - acc: 0.0569Epoch 00016: val_loss did not improve\n",
      "668/668 [==============================] - 1s - loss: 4.4643 - acc: 0.0554 - val_loss: 4.8496 - val_acc: 0.0240\n",
      "Epoch 18/30\n",
      "650/668 [============================>.] - ETA: 0s - loss: 4.4422 - acc: 0.0585Epoch 00017: val_loss did not improve\n",
      "668/668 [==============================] - 1s - loss: 4.4352 - acc: 0.0569 - val_loss: 4.8997 - val_acc: 0.0251\n",
      "Epoch 19/30\n",
      "650/668 [============================>.] - ETA: 0s - loss: 4.4135 - acc: 0.0708Epoch 00018: val_loss did not improve\n",
      "668/668 [==============================] - 1s - loss: 4.4186 - acc: 0.0704 - val_loss: 4.8527 - val_acc: 0.0168\n",
      "Epoch 20/30\n",
      "650/668 [============================>.] - ETA: 0s - loss: 4.4062 - acc: 0.0523Epoch 00019: val_loss did not improve\n",
      "668/668 [==============================] - 1s - loss: 4.4087 - acc: 0.0539 - val_loss: 4.8858 - val_acc: 0.0192\n",
      "Epoch 21/30\n",
      "650/668 [============================>.] - ETA: 0s - loss: 4.3852 - acc: 0.0615Epoch 00020: val_loss did not improve\n",
      "668/668 [==============================] - 1s - loss: 4.3878 - acc: 0.0599 - val_loss: 4.8856 - val_acc: 0.0251\n",
      "Epoch 22/30\n",
      "650/668 [============================>.] - ETA: 0s - loss: 4.3716 - acc: 0.0538Epoch 00021: val_loss did not improve\n",
      "668/668 [==============================] - 1s - loss: 4.3676 - acc: 0.0554 - val_loss: 4.9122 - val_acc: 0.0287\n",
      "Epoch 23/30\n",
      "650/668 [============================>.] - ETA: 0s - loss: 4.3647 - acc: 0.0723Epoch 00022: val_loss did not improve\n",
      "668/668 [==============================] - 1s - loss: 4.3582 - acc: 0.0719 - val_loss: 4.9626 - val_acc: 0.0192\n",
      "Epoch 24/30\n",
      "650/668 [============================>.] - ETA: 0s - loss: 4.3472 - acc: 0.0738Epoch 00023: val_loss did not improve\n",
      "668/668 [==============================] - 1s - loss: 4.3417 - acc: 0.0763 - val_loss: 4.9685 - val_acc: 0.0216\n",
      "Epoch 25/30\n",
      "650/668 [============================>.] - ETA: 0s - loss: 4.3305 - acc: 0.0723Epoch 00024: val_loss did not improve\n",
      "668/668 [==============================] - 1s - loss: 4.3272 - acc: 0.0719 - val_loss: 4.9124 - val_acc: 0.0168\n",
      "Epoch 26/30\n",
      "650/668 [============================>.] - ETA: 0s - loss: 4.3051 - acc: 0.0692Epoch 00025: val_loss did not improve\n",
      "668/668 [==============================] - 1s - loss: 4.3076 - acc: 0.0689 - val_loss: 4.9174 - val_acc: 0.0180\n",
      "Epoch 27/30\n",
      "650/668 [============================>.] - ETA: 0s - loss: 4.2806 - acc: 0.0785Epoch 00026: val_loss did not improve\n",
      "668/668 [==============================] - 1s - loss: 4.2903 - acc: 0.0778 - val_loss: 4.9245 - val_acc: 0.0192\n",
      "Epoch 28/30\n",
      "650/668 [============================>.] - ETA: 0s - loss: 4.2985 - acc: 0.0723Epoch 00027: val_loss did not improve\n",
      "668/668 [==============================] - 1s - loss: 4.2863 - acc: 0.0763 - val_loss: 4.9724 - val_acc: 0.0275\n",
      "Epoch 29/30\n",
      "650/668 [============================>.] - ETA: 0s - loss: 4.2533 - acc: 0.0708Epoch 00028: val_loss did not improve\n",
      "668/668 [==============================] - 1s - loss: 4.2561 - acc: 0.0704 - val_loss: 4.9677 - val_acc: 0.0204\n",
      "Epoch 30/30\n",
      "650/668 [============================>.] - ETA: 0s - loss: 4.2478 - acc: 0.0769Epoch 00029: val_loss did not improve\n",
      "668/668 [==============================] - 1s - loss: 4.2487 - acc: 0.0763 - val_loss: 5.0223 - val_acc: 0.0240"
     ]
    },
    {
     "name": "stderr",
     "output_type": "stream",
     "text": [
      "  1%|▏         | 9/668 [00:00<00:07, 82.92it/s]"
     ]
    },
    {
     "name": "stdout",
     "output_type": "stream",
     "text": [
      "\n"
     ]
    },
    {
     "name": "stderr",
     "output_type": "stream",
     "text": [
      "100%|██████████| 668/668 [00:08<00:00, 76.57it/s]\n"
     ]
    },
    {
     "name": "stdout",
     "output_type": "stream",
     "text": [
      "Train on 668 samples, validate on 835 samples\n",
      "Epoch 1/30\n",
      "650/668 [============================>.] - ETA: 0s - loss: 4.9365 - acc: 0.0354Epoch 00000: val_loss did not improve\n",
      "668/668 [==============================] - 1s - loss: 4.9347 - acc: 0.0359 - val_loss: 4.7954 - val_acc: 0.0287\n",
      "Epoch 2/30\n",
      "650/668 [============================>.] - ETA: 0s - loss: 4.7945 - acc: 0.0338Epoch 00001: val_loss did not improve\n",
      "668/668 [==============================] - 1s - loss: 4.7906 - acc: 0.0344 - val_loss: 4.8101 - val_acc: 0.0323\n",
      "Epoch 3/30\n",
      "650/668 [============================>.] - ETA: 0s - loss: 4.7441 - acc: 0.0400Epoch 00002: val_loss improved from 4.78507 to 4.76449, saving model to saved_models/weights.best.from_scratch.hdf5\n",
      "668/668 [==============================] - 1s - loss: 4.7398 - acc: 0.0404 - val_loss: 4.7645 - val_acc: 0.0299\n",
      "Epoch 4/30\n",
      "650/668 [============================>.] - ETA: 0s - loss: 4.6905 - acc: 0.0538Epoch 00003: val_loss improved from 4.76449 to 4.75625, saving model to saved_models/weights.best.from_scratch.hdf5\n",
      "668/668 [==============================] - 1s - loss: 4.6965 - acc: 0.0524 - val_loss: 4.7562 - val_acc: 0.0275\n",
      "Epoch 5/30\n",
      "650/668 [============================>.] - ETA: 0s - loss: 4.6635 - acc: 0.0415Epoch 00004: val_loss did not improve\n",
      "668/668 [==============================] - 1s - loss: 4.6630 - acc: 0.0419 - val_loss: 4.7959 - val_acc: 0.0251\n",
      "Epoch 6/30\n",
      "650/668 [============================>.] - ETA: 0s - loss: 4.6345 - acc: 0.0446Epoch 00005: val_loss did not improve\n",
      "668/668 [==============================] - 1s - loss: 4.6309 - acc: 0.0464 - val_loss: 4.8250 - val_acc: 0.0216\n",
      "Epoch 7/30\n",
      "650/668 [============================>.] - ETA: 0s - loss: 4.6023 - acc: 0.0508Epoch 00006: val_loss did not improve\n",
      "668/668 [==============================] - 1s - loss: 4.6066 - acc: 0.0509 - val_loss: 4.7628 - val_acc: 0.0335\n",
      "Epoch 8/30\n",
      "650/668 [============================>.] - ETA: 0s - loss: 4.5855 - acc: 0.0600Epoch 00007: val_loss did not improve\n",
      "668/668 [==============================] - 1s - loss: 4.5822 - acc: 0.0599 - val_loss: 4.7942 - val_acc: 0.0240\n",
      "Epoch 9/30\n",
      "650/668 [============================>.] - ETA: 0s - loss: 4.5537 - acc: 0.0569Epoch 00008: val_loss did not improve\n",
      "668/668 [==============================] - 1s - loss: 4.5580 - acc: 0.0584 - val_loss: 4.7759 - val_acc: 0.0263\n",
      "Epoch 10/30\n",
      "650/668 [============================>.] - ETA: 0s - loss: 4.5451 - acc: 0.0477Epoch 00009: val_loss did not improve\n",
      "668/668 [==============================] - 1s - loss: 4.5378 - acc: 0.0509 - val_loss: 4.7887 - val_acc: 0.0299\n",
      "Epoch 11/30\n",
      "650/668 [============================>.] - ETA: 0s - loss: 4.5102 - acc: 0.0523Epoch 00010: val_loss did not improve\n",
      "668/668 [==============================] - 1s - loss: 4.5059 - acc: 0.0539 - val_loss: 4.8000 - val_acc: 0.0263\n",
      "Epoch 12/30\n",
      "650/668 [============================>.] - ETA: 0s - loss: 4.4961 - acc: 0.0585Epoch 00011: val_loss did not improve\n",
      "668/668 [==============================] - 1s - loss: 4.4917 - acc: 0.0599 - val_loss: 4.8568 - val_acc: 0.0228\n",
      "Epoch 13/30\n",
      "650/668 [============================>.] - ETA: 0s - loss: 4.4709 - acc: 0.0554Epoch 00012: val_loss did not improve\n",
      "668/668 [==============================] - 1s - loss: 4.4788 - acc: 0.0539 - val_loss: 4.8053 - val_acc: 0.0263\n",
      "Epoch 14/30\n",
      "650/668 [============================>.] - ETA: 0s - loss: 4.4565 - acc: 0.0554Epoch 00013: val_loss did not improve\n",
      "668/668 [==============================] - 1s - loss: 4.4535 - acc: 0.0539 - val_loss: 4.8243 - val_acc: 0.0287\n",
      "Epoch 15/30\n",
      "650/668 [============================>.] - ETA: 0s - loss: 4.4146 - acc: 0.0677Epoch 00014: val_loss did not improve\n",
      "668/668 [==============================] - 1s - loss: 4.4270 - acc: 0.0659 - val_loss: 4.8257 - val_acc: 0.0240\n",
      "Epoch 16/30\n",
      "650/668 [============================>.] - ETA: 0s - loss: 4.4041 - acc: 0.0585Epoch 00015: val_loss did not improve\n",
      "668/668 [==============================] - 1s - loss: 4.4050 - acc: 0.0569 - val_loss: 4.8796 - val_acc: 0.0240\n",
      "Epoch 17/30\n",
      "650/668 [============================>.] - ETA: 0s - loss: 4.3869 - acc: 0.0600Epoch 00016: val_loss did not improve\n",
      "668/668 [==============================] - 1s - loss: 4.3916 - acc: 0.0644 - val_loss: 4.8287 - val_acc: 0.0287\n",
      "Epoch 18/30\n",
      "650/668 [============================>.] - ETA: 0s - loss: 4.3783 - acc: 0.0708Epoch 00017: val_loss did not improve\n",
      "668/668 [==============================] - 1s - loss: 4.3798 - acc: 0.0719 - val_loss: 4.8632 - val_acc: 0.0263\n",
      "Epoch 19/30\n",
      "650/668 [============================>.] - ETA: 0s - loss: 4.3495 - acc: 0.0692Epoch 00018: val_loss did not improve\n",
      "668/668 [==============================] - 1s - loss: 4.3542 - acc: 0.0689 - val_loss: 4.8482 - val_acc: 0.0287\n",
      "Epoch 20/30\n",
      "650/668 [============================>.] - ETA: 0s - loss: 4.3341 - acc: 0.0692Epoch 00019: val_loss did not improve\n",
      "668/668 [==============================] - 1s - loss: 4.3333 - acc: 0.0674 - val_loss: 4.8893 - val_acc: 0.0299\n",
      "Epoch 21/30\n",
      "650/668 [============================>.] - ETA: 0s - loss: 4.3339 - acc: 0.0738Epoch 00020: val_loss did not improve\n",
      "668/668 [==============================] - 1s - loss: 4.3255 - acc: 0.0778 - val_loss: 4.9098 - val_acc: 0.0275\n",
      "Epoch 22/30\n",
      "650/668 [============================>.] - ETA: 0s - loss: 4.2869 - acc: 0.0692Epoch 00021: val_loss did not improve\n",
      "668/668 [==============================] - 1s - loss: 4.2914 - acc: 0.0689 - val_loss: 4.8821 - val_acc: 0.0287\n",
      "Epoch 23/30\n",
      "650/668 [============================>.] - ETA: 0s - loss: 4.2869 - acc: 0.0646Epoch 00022: val_loss did not improve\n",
      "668/668 [==============================] - 1s - loss: 4.2776 - acc: 0.0659 - val_loss: 4.9230 - val_acc: 0.0240\n",
      "Epoch 24/30\n",
      "650/668 [============================>.] - ETA: 0s - loss: 4.2764 - acc: 0.0677Epoch 00023: val_loss did not improve\n",
      "668/668 [==============================] - 1s - loss: 4.2715 - acc: 0.0719 - val_loss: 4.9057 - val_acc: 0.0299\n",
      "Epoch 25/30\n",
      "650/668 [============================>.] - ETA: 0s - loss: 4.2376 - acc: 0.0785Epoch 00024: val_loss did not improve\n",
      "668/668 [==============================] - 1s - loss: 4.2453 - acc: 0.0778 - val_loss: 4.9313 - val_acc: 0.0311\n",
      "Epoch 26/30\n",
      "650/668 [============================>.] - ETA: 0s - loss: 4.2363 - acc: 0.0815Epoch 00025: val_loss did not improve\n",
      "668/668 [==============================] - 1s - loss: 4.2269 - acc: 0.0808 - val_loss: 4.9511 - val_acc: 0.0251\n",
      "Epoch 27/30\n",
      "650/668 [============================>.] - ETA: 0s - loss: 4.2196 - acc: 0.0754Epoch 00026: val_loss did not improve\n",
      "668/668 [==============================] - 1s - loss: 4.2242 - acc: 0.0763 - val_loss: 4.9201 - val_acc: 0.0275\n",
      "Epoch 28/30\n",
      "650/668 [============================>.] - ETA: 0s - loss: 4.1954 - acc: 0.0831Epoch 00027: val_loss did not improve\n",
      "668/668 [==============================] - 1s - loss: 4.1968 - acc: 0.0808 - val_loss: 5.0054 - val_acc: 0.0263\n",
      "Epoch 29/30\n",
      "650/668 [============================>.] - ETA: 0s - loss: 4.1808 - acc: 0.0862Epoch 00028: val_loss did not improve\n",
      "668/668 [==============================] - 1s - loss: 4.1834 - acc: 0.0838 - val_loss: 5.0442 - val_acc: 0.0263\n",
      "Epoch 30/30\n",
      "650/668 [============================>.] - ETA: 0s - loss: 4.1681 - acc: 0.0923Epoch 00029: val_loss did not improve\n",
      "668/668 [==============================] - 1s - loss: 4.1660 - acc: 0.0913 - val_loss: 4.9636 - val_acc: 0.0299"
     ]
    },
    {
     "name": "stderr",
     "output_type": "stream",
     "text": [
      "  1%|          | 7/668 [00:00<00:09, 68.46it/s]"
     ]
    },
    {
     "name": "stdout",
     "output_type": "stream",
     "text": [
      "\n"
     ]
    },
    {
     "name": "stderr",
     "output_type": "stream",
     "text": [
      "100%|██████████| 668/668 [00:08<00:00, 81.12it/s]\n"
     ]
    },
    {
     "name": "stdout",
     "output_type": "stream",
     "text": [
      "Train on 668 samples, validate on 835 samples\n",
      "Epoch 1/30\n",
      "650/668 [============================>.] - ETA: 0s - loss: 4.7954 - acc: 0.0354Epoch 00000: val_loss did not improve\n",
      "668/668 [==============================] - 1s - loss: 4.7948 - acc: 0.0359 - val_loss: 4.8553 - val_acc: 0.0323\n",
      "Epoch 2/30\n",
      "650/668 [============================>.] - ETA: 0s - loss: 4.7147 - acc: 0.0323Epoch 00001: val_loss did not improve\n",
      "668/668 [==============================] - 1s - loss: 4.7067 - acc: 0.0314 - val_loss: 4.8496 - val_acc: 0.0323\n",
      "Epoch 3/30\n",
      "650/668 [============================>.] - ETA: 0s - loss: 4.6711 - acc: 0.0354Epoch 00002: val_loss did not improve\n",
      "668/668 [==============================] - 1s - loss: 4.6726 - acc: 0.0344 - val_loss: 4.7766 - val_acc: 0.0263\n",
      "Epoch 4/30\n",
      "650/668 [============================>.] - ETA: 0s - loss: 4.6344 - acc: 0.0385Epoch 00003: val_loss did not improve\n",
      "668/668 [==============================] - 1s - loss: 4.6362 - acc: 0.0389 - val_loss: 4.7736 - val_acc: 0.0275\n",
      "Epoch 5/30\n",
      "650/668 [============================>.] - ETA: 0s - loss: 4.6029 - acc: 0.0477Epoch 00004: val_loss did not improve\n",
      "668/668 [==============================] - 1s - loss: 4.6025 - acc: 0.0494 - val_loss: 4.8554 - val_acc: 0.0240\n",
      "Epoch 6/30\n",
      "650/668 [============================>.] - ETA: 0s - loss: 4.5800 - acc: 0.0477Epoch 00005: val_loss did not improve\n",
      "668/668 [==============================] - 1s - loss: 4.5843 - acc: 0.0464 - val_loss: 4.7837 - val_acc: 0.0251\n",
      "Epoch 7/30\n",
      "650/668 [============================>.] - ETA: 0s - loss: 4.5522 - acc: 0.0492Epoch 00006: val_loss did not improve\n",
      "668/668 [==============================] - 1s - loss: 4.5501 - acc: 0.0494 - val_loss: 4.7723 - val_acc: 0.0323\n",
      "Epoch 8/30\n",
      "650/668 [============================>.] - ETA: 0s - loss: 4.5420 - acc: 0.0538Epoch 00007: val_loss did not improve\n",
      "668/668 [==============================] - 1s - loss: 4.5321 - acc: 0.0554 - val_loss: 4.8205 - val_acc: 0.0228\n",
      "Epoch 9/30\n",
      "650/668 [============================>.] - ETA: 0s - loss: 4.5170 - acc: 0.0569Epoch 00008: val_loss did not improve\n",
      "668/668 [==============================] - 1s - loss: 4.5086 - acc: 0.0569 - val_loss: 4.8283 - val_acc: 0.0240\n",
      "Epoch 10/30\n",
      "650/668 [============================>.] - ETA: 0s - loss: 4.4951 - acc: 0.0508Epoch 00009: val_loss did not improve\n",
      "668/668 [==============================] - 1s - loss: 4.4864 - acc: 0.0524 - val_loss: 4.8194 - val_acc: 0.0299\n",
      "Epoch 11/30\n",
      "650/668 [============================>.] - ETA: 0s - loss: 4.4641 - acc: 0.0554Epoch 00010: val_loss did not improve\n",
      "668/668 [==============================] - 1s - loss: 4.4689 - acc: 0.0554 - val_loss: 4.7971 - val_acc: 0.0263\n",
      "Epoch 12/30\n",
      "650/668 [============================>.] - ETA: 0s - loss: 4.4373 - acc: 0.0600Epoch 00011: val_loss did not improve\n",
      "668/668 [==============================] - 1s - loss: 4.4436 - acc: 0.0599 - val_loss: 4.8105 - val_acc: 0.0287\n",
      "Epoch 13/30\n",
      "650/668 [============================>.] - ETA: 0s - loss: 4.4336 - acc: 0.0677Epoch 00012: val_loss did not improve\n",
      "668/668 [==============================] - 1s - loss: 4.4277 - acc: 0.0689 - val_loss: 4.8375 - val_acc: 0.0216\n",
      "Epoch 14/30\n",
      "650/668 [============================>.] - ETA: 0s - loss: 4.3948 - acc: 0.0723Epoch 00013: val_loss did not improve\n",
      "668/668 [==============================] - 1s - loss: 4.4032 - acc: 0.0704 - val_loss: 4.8172 - val_acc: 0.0275\n",
      "Epoch 15/30\n",
      "650/668 [============================>.] - ETA: 0s - loss: 4.3962 - acc: 0.0738Epoch 00014: val_loss did not improve\n",
      "668/668 [==============================] - 1s - loss: 4.3948 - acc: 0.0734 - val_loss: 4.8192 - val_acc: 0.0263\n",
      "Epoch 16/30\n",
      "650/668 [============================>.] - ETA: 0s - loss: 4.3654 - acc: 0.0677Epoch 00015: val_loss did not improve\n",
      "668/668 [==============================] - 1s - loss: 4.3684 - acc: 0.0689 - val_loss: 4.8291 - val_acc: 0.0192\n",
      "Epoch 17/30\n",
      "650/668 [============================>.] - ETA: 0s - loss: 4.3570 - acc: 0.0662Epoch 00016: val_loss did not improve\n",
      "668/668 [==============================] - 1s - loss: 4.3543 - acc: 0.0659 - val_loss: 4.8345 - val_acc: 0.0240\n",
      "Epoch 18/30\n",
      "650/668 [============================>.] - ETA: 0s - loss: 4.3254 - acc: 0.0831Epoch 00017: val_loss did not improve\n",
      "668/668 [==============================] - 1s - loss: 4.3366 - acc: 0.0823 - val_loss: 4.8657 - val_acc: 0.0335\n",
      "Epoch 19/30\n",
      "650/668 [============================>.] - ETA: 0s - loss: 4.3209 - acc: 0.0723Epoch 00018: val_loss did not improve\n",
      "668/668 [==============================] - 1s - loss: 4.3142 - acc: 0.0749 - val_loss: 4.8990 - val_acc: 0.0299\n",
      "Epoch 20/30\n",
      "650/668 [============================>.] - ETA: 0s - loss: 4.2951 - acc: 0.0754Epoch 00019: val_loss did not improve\n",
      "668/668 [==============================] - 1s - loss: 4.2996 - acc: 0.0749 - val_loss: 4.8973 - val_acc: 0.0228\n",
      "Epoch 21/30\n",
      "650/668 [============================>.] - ETA: 0s - loss: 4.2817 - acc: 0.0815Epoch 00020: val_loss did not improve\n",
      "668/668 [==============================] - 1s - loss: 4.2834 - acc: 0.0838 - val_loss: 4.9050 - val_acc: 0.0216\n",
      "Epoch 22/30\n",
      "650/668 [============================>.] - ETA: 0s - loss: 4.2850 - acc: 0.0815Epoch 00021: val_loss did not improve\n",
      "668/668 [==============================] - 1s - loss: 4.2762 - acc: 0.0808 - val_loss: 4.9047 - val_acc: 0.0251\n",
      "Epoch 23/30\n",
      "650/668 [============================>.] - ETA: 0s - loss: 4.2781 - acc: 0.0846Epoch 00022: val_loss did not improve\n",
      "668/668 [==============================] - 1s - loss: 4.2703 - acc: 0.0853 - val_loss: 4.9514 - val_acc: 0.0251\n",
      "Epoch 24/30\n",
      "650/668 [============================>.] - ETA: 0s - loss: 4.2360 - acc: 0.0938Epoch 00023: val_loss did not improve\n",
      "668/668 [==============================] - 1s - loss: 4.2425 - acc: 0.0913 - val_loss: 4.9368 - val_acc: 0.0228\n",
      "Epoch 25/30\n",
      "650/668 [============================>.] - ETA: 0s - loss: 4.2322 - acc: 0.0938Epoch 00024: val_loss did not improve\n",
      "668/668 [==============================] - 2s - loss: 4.2271 - acc: 0.0928 - val_loss: 4.9539 - val_acc: 0.0275\n",
      "Epoch 26/30\n",
      "650/668 [============================>.] - ETA: 0s - loss: 4.2115 - acc: 0.0862Epoch 00025: val_loss did not improve\n",
      "668/668 [==============================] - 2s - loss: 4.2116 - acc: 0.0853 - val_loss: 4.9796 - val_acc: 0.0240\n",
      "Epoch 27/30\n",
      "650/668 [============================>.] - ETA: 0s - loss: 4.2196 - acc: 0.0846Epoch 00026: val_loss did not improve\n",
      "668/668 [==============================] - 1s - loss: 4.2098 - acc: 0.0853 - val_loss: 4.9591 - val_acc: 0.0216\n",
      "Epoch 28/30\n",
      "650/668 [============================>.] - ETA: 0s - loss: 4.1850 - acc: 0.0892Epoch 00027: val_loss did not improve\n",
      "668/668 [==============================] - 1s - loss: 4.1840 - acc: 0.0883 - val_loss: 5.0269 - val_acc: 0.0311\n",
      "Epoch 29/30\n",
      "650/668 [============================>.] - ETA: 0s - loss: 4.1814 - acc: 0.0846Epoch 00028: val_loss did not improve\n",
      "668/668 [==============================] - 1s - loss: 4.1811 - acc: 0.0838 - val_loss: 4.9950 - val_acc: 0.0228\n",
      "Epoch 30/30\n",
      "650/668 [============================>.] - ETA: 0s - loss: 4.1656 - acc: 0.0908Epoch 00029: val_loss did not improve\n",
      "668/668 [==============================] - 1s - loss: 4.1634 - acc: 0.0913 - val_loss: 5.0511 - val_acc: 0.0216"
     ]
    },
    {
     "name": "stderr",
     "output_type": "stream",
     "text": [
      "  1%|          | 6/668 [00:00<00:12, 52.49it/s]"
     ]
    },
    {
     "name": "stdout",
     "output_type": "stream",
     "text": [
      "\n"
     ]
    },
    {
     "name": "stderr",
     "output_type": "stream",
     "text": [
      "100%|██████████| 668/668 [00:08<00:00, 78.19it/s]\n"
     ]
    },
    {
     "name": "stdout",
     "output_type": "stream",
     "text": [
      "Train on 668 samples, validate on 835 samples\n",
      "Epoch 1/30\n",
      "650/668 [============================>.] - ETA: 0s - loss: 4.8609 - acc: 0.0292Epoch 00000: val_loss did not improve\n",
      "668/668 [==============================] - 1s - loss: 4.8625 - acc: 0.0284 - val_loss: 4.8510 - val_acc: 0.0204\n",
      "Epoch 2/30\n",
      "650/668 [============================>.] - ETA: 0s - loss: 4.7572 - acc: 0.0369Epoch 00001: val_loss did not improve\n",
      "668/668 [==============================] - 1s - loss: 4.7564 - acc: 0.0359 - val_loss: 4.7691 - val_acc: 0.0263\n",
      "Epoch 3/30\n",
      "650/668 [============================>.] - ETA: 0s - loss: 4.6852 - acc: 0.0338Epoch 00002: val_loss improved from 4.75625 to 4.73866, saving model to saved_models/weights.best.from_scratch.hdf5\n",
      "668/668 [==============================] - 1s - loss: 4.6909 - acc: 0.0344 - val_loss: 4.7387 - val_acc: 0.0311\n",
      "Epoch 4/30\n",
      "650/668 [============================>.] - ETA: 0s - loss: 4.6551 - acc: 0.0508Epoch 00003: val_loss improved from 4.73866 to 4.73127, saving model to saved_models/weights.best.from_scratch.hdf5\n",
      "668/668 [==============================] - 1s - loss: 4.6575 - acc: 0.0494 - val_loss: 4.7313 - val_acc: 0.0383\n",
      "Epoch 5/30\n",
      "650/668 [============================>.] - ETA: 0s - loss: 4.6230 - acc: 0.0492Epoch 00004: val_loss did not improve\n",
      "668/668 [==============================] - 1s - loss: 4.6199 - acc: 0.0494 - val_loss: 4.7548 - val_acc: 0.0467\n",
      "Epoch 6/30\n",
      "650/668 [============================>.] - ETA: 0s - loss: 4.6040 - acc: 0.0492Epoch 00005: val_loss did not improve\n",
      "668/668 [==============================] - 1s - loss: 4.5930 - acc: 0.0509 - val_loss: 4.7567 - val_acc: 0.0431\n",
      "Epoch 7/30\n",
      "650/668 [============================>.] - ETA: 0s - loss: 4.5676 - acc: 0.0477Epoch 00006: val_loss did not improve\n",
      "668/668 [==============================] - 1s - loss: 4.5661 - acc: 0.0479 - val_loss: 4.7381 - val_acc: 0.0395\n",
      "Epoch 8/30\n",
      "650/668 [============================>.] - ETA: 0s - loss: 4.5346 - acc: 0.0615Epoch 00007: val_loss did not improve\n",
      "668/668 [==============================] - 1s - loss: 4.5375 - acc: 0.0599 - val_loss: 4.7339 - val_acc: 0.0455\n",
      "Epoch 9/30\n",
      "650/668 [============================>.] - ETA: 0s - loss: 4.5077 - acc: 0.0538Epoch 00008: val_loss did not improve\n",
      "668/668 [==============================] - 1s - loss: 4.5190 - acc: 0.0539 - val_loss: 4.7353 - val_acc: 0.0455\n",
      "Epoch 10/30\n",
      "650/668 [============================>.] - ETA: 0s - loss: 4.4927 - acc: 0.0585Epoch 00009: val_loss improved from 4.73127 to 4.72833, saving model to saved_models/weights.best.from_scratch.hdf5\n",
      "668/668 [==============================] - 1s - loss: 4.4917 - acc: 0.0614 - val_loss: 4.7283 - val_acc: 0.0431\n",
      "Epoch 11/30\n",
      "650/668 [============================>.] - ETA: 0s - loss: 4.4675 - acc: 0.0569Epoch 00010: val_loss did not improve\n",
      "668/668 [==============================] - 1s - loss: 4.4789 - acc: 0.0554 - val_loss: 4.7649 - val_acc: 0.0371\n",
      "Epoch 12/30\n",
      "650/668 [============================>.] - ETA: 0s - loss: 4.4696 - acc: 0.0538Epoch 00011: val_loss did not improve\n",
      "668/668 [==============================] - 1s - loss: 4.4630 - acc: 0.0554 - val_loss: 4.8020 - val_acc: 0.0467\n",
      "Epoch 13/30\n",
      "650/668 [============================>.] - ETA: 0s - loss: 4.4387 - acc: 0.0585Epoch 00012: val_loss did not improve\n",
      "668/668 [==============================] - 1s - loss: 4.4345 - acc: 0.0599 - val_loss: 4.7628 - val_acc: 0.0419\n",
      "Epoch 14/30\n",
      "650/668 [============================>.] - ETA: 0s - loss: 4.4260 - acc: 0.0615Epoch 00013: val_loss did not improve\n",
      "668/668 [==============================] - 1s - loss: 4.4273 - acc: 0.0599 - val_loss: 4.7753 - val_acc: 0.0455\n",
      "Epoch 15/30\n",
      "650/668 [============================>.] - ETA: 0s - loss: 4.3857 - acc: 0.0692Epoch 00014: val_loss did not improve\n",
      "668/668 [==============================] - 1s - loss: 4.4000 - acc: 0.0674 - val_loss: 4.7628 - val_acc: 0.0395\n",
      "Epoch 16/30\n",
      "650/668 [============================>.] - ETA: 0s - loss: 4.3641 - acc: 0.0585Epoch 00015: val_loss did not improve\n",
      "668/668 [==============================] - 1s - loss: 4.3823 - acc: 0.0599 - val_loss: 4.7592 - val_acc: 0.0359\n",
      "Epoch 17/30\n",
      "650/668 [============================>.] - ETA: 0s - loss: 4.3731 - acc: 0.0600Epoch 00016: val_loss did not improve\n",
      "668/668 [==============================] - 1s - loss: 4.3746 - acc: 0.0614 - val_loss: 4.8267 - val_acc: 0.0407\n",
      "Epoch 18/30\n",
      "650/668 [============================>.] - ETA: 0s - loss: 4.3601 - acc: 0.0662Epoch 00017: val_loss did not improve\n",
      "668/668 [==============================] - 1s - loss: 4.3528 - acc: 0.0674 - val_loss: 4.8427 - val_acc: 0.0419\n",
      "Epoch 19/30\n",
      "650/668 [============================>.] - ETA: 0s - loss: 4.3448 - acc: 0.0646Epoch 00018: val_loss did not improve\n",
      "668/668 [==============================] - 1s - loss: 4.3421 - acc: 0.0629 - val_loss: 4.8513 - val_acc: 0.0383\n",
      "Epoch 20/30\n",
      "650/668 [============================>.] - ETA: 0s - loss: 4.3171 - acc: 0.0677Epoch 00019: val_loss did not improve\n",
      "668/668 [==============================] - 1s - loss: 4.3256 - acc: 0.0689 - val_loss: 4.8215 - val_acc: 0.0359\n",
      "Epoch 21/30\n",
      "650/668 [============================>.] - ETA: 0s - loss: 4.3062 - acc: 0.0631Epoch 00020: val_loss did not improve\n",
      "668/668 [==============================] - 1s - loss: 4.3088 - acc: 0.0629 - val_loss: 4.8420 - val_acc: 0.0371\n",
      "Epoch 22/30\n",
      "650/668 [============================>.] - ETA: 0s - loss: 4.2886 - acc: 0.0754Epoch 00021: val_loss did not improve\n",
      "668/668 [==============================] - 1s - loss: 4.2974 - acc: 0.0763 - val_loss: 4.8736 - val_acc: 0.0311\n",
      "Epoch 23/30\n",
      "650/668 [============================>.] - ETA: 0s - loss: 4.2725 - acc: 0.0769Epoch 00022: val_loss did not improve\n",
      "668/668 [==============================] - 1s - loss: 4.2802 - acc: 0.0749 - val_loss: 4.8275 - val_acc: 0.0347\n",
      "Epoch 24/30\n",
      "650/668 [============================>.] - ETA: 0s - loss: 4.2701 - acc: 0.0692Epoch 00023: val_loss did not improve\n",
      "668/668 [==============================] - 1s - loss: 4.2714 - acc: 0.0719 - val_loss: 4.9387 - val_acc: 0.0323\n",
      "Epoch 25/30\n",
      "650/668 [============================>.] - ETA: 0s - loss: 4.2484 - acc: 0.0785Epoch 00024: val_loss did not improve\n",
      "668/668 [==============================] - 1s - loss: 4.2537 - acc: 0.0778 - val_loss: 4.9025 - val_acc: 0.0419\n",
      "Epoch 26/30\n",
      "650/668 [============================>.] - ETA: 0s - loss: 4.2431 - acc: 0.0692Epoch 00025: val_loss did not improve\n",
      "668/668 [==============================] - 1s - loss: 4.2370 - acc: 0.0719 - val_loss: 4.8855 - val_acc: 0.0371\n",
      "Epoch 27/30\n",
      "650/668 [============================>.] - ETA: 0s - loss: 4.2260 - acc: 0.0785Epoch 00026: val_loss did not improve\n",
      "668/668 [==============================] - 1s - loss: 4.2241 - acc: 0.0808 - val_loss: 4.9584 - val_acc: 0.0395\n",
      "Epoch 28/30\n",
      "650/668 [============================>.] - ETA: 0s - loss: 4.2164 - acc: 0.0846Epoch 00027: val_loss did not improve\n",
      "668/668 [==============================] - 1s - loss: 4.2122 - acc: 0.0838 - val_loss: 4.9513 - val_acc: 0.0407\n",
      "Epoch 29/30\n",
      "650/668 [============================>.] - ETA: 0s - loss: 4.1850 - acc: 0.0862Epoch 00028: val_loss did not improve\n",
      "668/668 [==============================] - 1s - loss: 4.1929 - acc: 0.0853 - val_loss: 4.8836 - val_acc: 0.0359\n",
      "Epoch 30/30\n",
      "650/668 [============================>.] - ETA: 0s - loss: 4.1810 - acc: 0.0862Epoch 00029: val_loss did not improve\n",
      "668/668 [==============================] - 1s - loss: 4.1732 - acc: 0.0868 - val_loss: 4.9350 - val_acc: 0.0395"
     ]
    },
    {
     "name": "stderr",
     "output_type": "stream",
     "text": [
      "  1%|▏         | 10/668 [00:00<00:07, 91.63it/s]"
     ]
    },
    {
     "name": "stdout",
     "output_type": "stream",
     "text": [
      "\n"
     ]
    },
    {
     "name": "stderr",
     "output_type": "stream",
     "text": [
      "100%|██████████| 668/668 [00:09<00:00, 72.39it/s]\n"
     ]
    },
    {
     "name": "stdout",
     "output_type": "stream",
     "text": [
      "Train on 668 samples, validate on 835 samples\n",
      "Epoch 1/30\n",
      "650/668 [============================>.] - ETA: 0s - loss: 4.8507 - acc: 0.0246Epoch 00000: val_loss did not improve\n",
      "668/668 [==============================] - 1s - loss: 4.8460 - acc: 0.0240 - val_loss: 4.7652 - val_acc: 0.0383\n",
      "Epoch 2/30\n",
      "650/668 [============================>.] - ETA: 0s - loss: 4.7490 - acc: 0.0308Epoch 00001: val_loss did not improve\n",
      "668/668 [==============================] - 1s - loss: 4.7429 - acc: 0.0344 - val_loss: 4.7312 - val_acc: 0.0347\n",
      "Epoch 3/30\n",
      "650/668 [============================>.] - ETA: 0s - loss: 4.6989 - acc: 0.0400Epoch 00002: val_loss improved from 4.72833 to 4.72798, saving model to saved_models/weights.best.from_scratch.hdf5\n",
      "668/668 [==============================] - 1s - loss: 4.6960 - acc: 0.0404 - val_loss: 4.7280 - val_acc: 0.0395\n",
      "Epoch 4/30\n",
      "650/668 [============================>.] - ETA: 0s - loss: 4.6724 - acc: 0.0369Epoch 00003: val_loss improved from 4.72798 to 4.70299, saving model to saved_models/weights.best.from_scratch.hdf5\n",
      "668/668 [==============================] - 1s - loss: 4.6690 - acc: 0.0374 - val_loss: 4.7030 - val_acc: 0.0407\n",
      "Epoch 5/30\n",
      "650/668 [============================>.] - ETA: 0s - loss: 4.6343 - acc: 0.0492Epoch 00004: val_loss did not improve\n",
      "668/668 [==============================] - 1s - loss: 4.6330 - acc: 0.0479 - val_loss: 4.7257 - val_acc: 0.0383\n",
      "Epoch 6/30\n",
      "650/668 [============================>.] - ETA: 0s - loss: 4.5968 - acc: 0.0492Epoch 00005: val_loss did not improve\n",
      "668/668 [==============================] - 1s - loss: 4.6002 - acc: 0.0479 - val_loss: 4.7230 - val_acc: 0.0335\n",
      "Epoch 7/30\n",
      "650/668 [============================>.] - ETA: 0s - loss: 4.5683 - acc: 0.0431Epoch 00006: val_loss improved from 4.70299 to 4.70153, saving model to saved_models/weights.best.from_scratch.hdf5\n",
      "668/668 [==============================] - 1s - loss: 4.5780 - acc: 0.0419 - val_loss: 4.7015 - val_acc: 0.0323\n",
      "Epoch 8/30\n",
      "650/668 [============================>.] - ETA: 0s - loss: 4.5600 - acc: 0.0462Epoch 00007: val_loss did not improve\n",
      "668/668 [==============================] - 1s - loss: 4.5584 - acc: 0.0464 - val_loss: 4.7026 - val_acc: 0.0311\n",
      "Epoch 9/30\n",
      "650/668 [============================>.] - ETA: 0s - loss: 4.5290 - acc: 0.0477Epoch 00008: val_loss did not improve\n",
      "668/668 [==============================] - 1s - loss: 4.5312 - acc: 0.0464 - val_loss: 4.7208 - val_acc: 0.0311\n",
      "Epoch 10/30\n",
      "650/668 [============================>.] - ETA: 0s - loss: 4.5137 - acc: 0.0585Epoch 00009: val_loss improved from 4.70153 to 4.70054, saving model to saved_models/weights.best.from_scratch.hdf5\n",
      "668/668 [==============================] - 1s - loss: 4.5151 - acc: 0.0569 - val_loss: 4.7005 - val_acc: 0.0311\n",
      "Epoch 11/30\n",
      "650/668 [============================>.] - ETA: 0s - loss: 4.4927 - acc: 0.0538Epoch 00010: val_loss did not improve\n",
      "668/668 [==============================] - 1s - loss: 4.4931 - acc: 0.0554 - val_loss: 4.7281 - val_acc: 0.0299\n",
      "Epoch 12/30\n",
      "650/668 [============================>.] - ETA: 0s - loss: 4.4669 - acc: 0.0508Epoch 00011: val_loss did not improve\n",
      "668/668 [==============================] - 1s - loss: 4.4704 - acc: 0.0494 - val_loss: 4.7550 - val_acc: 0.0275\n",
      "Epoch 13/30\n",
      "650/668 [============================>.] - ETA: 0s - loss: 4.4532 - acc: 0.0585Epoch 00012: val_loss did not improve\n",
      "668/668 [==============================] - 1s - loss: 4.4543 - acc: 0.0584 - val_loss: 4.7487 - val_acc: 0.0347\n",
      "Epoch 14/30\n",
      "650/668 [============================>.] - ETA: 0s - loss: 4.4380 - acc: 0.0554Epoch 00013: val_loss did not improve\n",
      "668/668 [==============================] - 1s - loss: 4.4361 - acc: 0.0539 - val_loss: 4.8079 - val_acc: 0.0323\n",
      "Epoch 15/30\n",
      "650/668 [============================>.] - ETA: 0s - loss: 4.4258 - acc: 0.0585Epoch 00014: val_loss did not improve\n",
      "668/668 [==============================] - 1s - loss: 4.4181 - acc: 0.0584 - val_loss: 4.7824 - val_acc: 0.0335\n",
      "Epoch 16/30\n",
      "650/668 [============================>.] - ETA: 0s - loss: 4.4007 - acc: 0.0646Epoch 00015: val_loss did not improve\n",
      "668/668 [==============================] - 1s - loss: 4.4012 - acc: 0.0629 - val_loss: 4.7917 - val_acc: 0.0335\n",
      "Epoch 17/30\n",
      "650/668 [============================>.] - ETA: 0s - loss: 4.3975 - acc: 0.0508Epoch 00016: val_loss did not improve\n",
      "668/668 [==============================] - 1s - loss: 4.3950 - acc: 0.0509 - val_loss: 4.7535 - val_acc: 0.0371\n",
      "Epoch 18/30\n",
      "650/668 [============================>.] - ETA: 0s - loss: 4.3516 - acc: 0.0585Epoch 00017: val_loss did not improve\n",
      "668/668 [==============================] - 1s - loss: 4.3569 - acc: 0.0599 - val_loss: 4.9010 - val_acc: 0.0311\n",
      "Epoch 19/30\n",
      "650/668 [============================>.] - ETA: 0s - loss: 4.3459 - acc: 0.0600Epoch 00018: val_loss did not improve\n",
      "668/668 [==============================] - 1s - loss: 4.3492 - acc: 0.0599 - val_loss: 4.7759 - val_acc: 0.0359\n",
      "Epoch 20/30\n",
      "650/668 [============================>.] - ETA: 0s - loss: 4.3410 - acc: 0.0754Epoch 00019: val_loss did not improve\n",
      "668/668 [==============================] - 1s - loss: 4.3332 - acc: 0.0749 - val_loss: 4.8469 - val_acc: 0.0347\n",
      "Epoch 21/30\n",
      "650/668 [============================>.] - ETA: 0s - loss: 4.3167 - acc: 0.0646Epoch 00020: val_loss did not improve\n",
      "668/668 [==============================] - 1s - loss: 4.3162 - acc: 0.0659 - val_loss: 4.8709 - val_acc: 0.0359\n",
      "Epoch 22/30\n",
      "650/668 [============================>.] - ETA: 0s - loss: 4.3094 - acc: 0.0723Epoch 00021: val_loss did not improve\n",
      "668/668 [==============================] - 1s - loss: 4.2982 - acc: 0.0719 - val_loss: 4.9495 - val_acc: 0.0299\n",
      "Epoch 23/30\n",
      "650/668 [============================>.] - ETA: 0s - loss: 4.2922 - acc: 0.0631Epoch 00022: val_loss did not improve\n",
      "668/668 [==============================] - 1s - loss: 4.2922 - acc: 0.0629 - val_loss: 4.7655 - val_acc: 0.0323\n",
      "Epoch 24/30\n",
      "650/668 [============================>.] - ETA: 0s - loss: 4.2727 - acc: 0.0662Epoch 00023: val_loss did not improve\n",
      "668/668 [==============================] - 1s - loss: 4.2630 - acc: 0.0659 - val_loss: 4.9416 - val_acc: 0.0347\n",
      "Epoch 25/30\n",
      "650/668 [============================>.] - ETA: 0s - loss: 4.2582 - acc: 0.0738Epoch 00024: val_loss did not improve\n",
      "668/668 [==============================] - 1s - loss: 4.2614 - acc: 0.0749 - val_loss: 4.8127 - val_acc: 0.0359\n",
      "Epoch 26/30\n",
      "650/668 [============================>.] - ETA: 0s - loss: 4.2452 - acc: 0.0723Epoch 00025: val_loss did not improve\n",
      "668/668 [==============================] - 1s - loss: 4.2370 - acc: 0.0749 - val_loss: 4.8331 - val_acc: 0.0359\n",
      "Epoch 27/30\n",
      "650/668 [============================>.] - ETA: 0s - loss: 4.2053 - acc: 0.0723Epoch 00026: val_loss did not improve\n",
      "668/668 [==============================] - 1s - loss: 4.2100 - acc: 0.0719 - val_loss: 4.9523 - val_acc: 0.0335\n",
      "Epoch 28/30\n",
      "650/668 [============================>.] - ETA: 0s - loss: 4.2039 - acc: 0.0877Epoch 00027: val_loss did not improve\n",
      "668/668 [==============================] - 1s - loss: 4.2038 - acc: 0.0868 - val_loss: 4.8290 - val_acc: 0.0299\n",
      "Epoch 29/30\n",
      "650/668 [============================>.] - ETA: 0s - loss: 4.2065 - acc: 0.0831Epoch 00028: val_loss did not improve\n",
      "668/668 [==============================] - 1s - loss: 4.1980 - acc: 0.0823 - val_loss: 4.8391 - val_acc: 0.0323\n",
      "Epoch 30/30\n",
      "650/668 [============================>.] - ETA: 0s - loss: 4.1817 - acc: 0.0769Epoch 00029: val_loss did not improve\n",
      "668/668 [==============================] - 1s - loss: 4.1805 - acc: 0.0763 - val_loss: 4.9118 - val_acc: 0.0335\n"
     ]
    }
   ],
   "source": [
    "from keras.callbacks import ModelCheckpoint\n",
    "import pickle\n",
    "\n",
    "### TODO: specify the number of epochs that you would like to use to train the model.\n",
    "\n",
    "epochs = 30\n",
    "\n",
    "### Do NOT modify the code below this line.\n",
    "\n",
    "checkpointer = ModelCheckpoint(filepath='saved_models/weights.best.from_scratch.hdf5', \n",
    "                               verbose=1, save_best_only=True)\n",
    "\n",
    "\n",
    "#model.fit(train_tensors, train_targets, \n",
    "          #validation_data=(valid_tensors, valid_targets),\n",
    "          #epochs=epochs, batch_size=50, callbacks=[checkpointer], verbose=1)\n",
    "\n",
    "for train_tensors1, train_targets1 in generators(train_files,train_targets):\n",
    "    \n",
    "    model.fit(train_tensors1, train_targets1, \n",
    "          validation_data=(valid_tensors, valid_targets),\n",
    "          epochs=epochs, batch_size=50, callbacks=[checkpointer], verbose=1)"
   ]
  },
  {
   "cell_type": "markdown",
   "metadata": {},
   "source": [
    "### Load the Model with the Best Validation Loss"
   ]
  },
  {
   "cell_type": "code",
   "execution_count": 65,
   "metadata": {
    "collapsed": true
   },
   "outputs": [],
   "source": [
    "model.load_weights('saved_models/weights.best.from_scratch.hdf5')"
   ]
  },
  {
   "cell_type": "markdown",
   "metadata": {},
   "source": [
    "### Test the Model\n",
    "\n",
    "Try out your model on the test dataset of dog images.  Ensure that your test accuracy is greater than 1%."
   ]
  },
  {
   "cell_type": "code",
   "execution_count": 66,
   "metadata": {},
   "outputs": [
    {
     "name": "stdout",
     "output_type": "stream",
     "text": [
      "Test accuracy: 3.4689%\n"
     ]
    }
   ],
   "source": [
    "# get index of predicted dog breed for each image in test set\n",
    "dog_breed_predictions = [np.argmax(model.predict(np.expand_dims(tensor, axis=0))) for tensor in test_tensors]\n",
    "\n",
    "# report test accuracy\n",
    "test_accuracy = 100*np.sum(np.array(dog_breed_predictions)==np.argmax(test_targets, axis=1))/len(dog_breed_predictions)\n",
    "print('Test accuracy: %.4f%%' % test_accuracy)"
   ]
  },
  {
   "cell_type": "markdown",
   "metadata": {},
   "source": [
    "---\n",
    "<a id='step4'></a>\n",
    "## Step 4: Use a CNN to Classify Dog Breeds\n",
    "\n",
    "To reduce training time without sacrificing accuracy, we show you how to train a CNN using transfer learning.  In the following step, you will get a chance to use transfer learning to train your own CNN.\n",
    "\n",
    "### Obtain Bottleneck Features"
   ]
  },
  {
   "cell_type": "code",
   "execution_count": 29,
   "metadata": {
    "collapsed": true
   },
   "outputs": [],
   "source": [
    "bottleneck_features = np.load('bottleneck_features/DogVGG16Data.npz')\n",
    "train_VGG16 = bottleneck_features['train']\n",
    "valid_VGG16 = bottleneck_features['valid']\n",
    "test_VGG16 = bottleneck_features['test']\n"
   ]
  },
  {
   "cell_type": "markdown",
   "metadata": {},
   "source": [
    "### Model Architecture\n",
    "\n",
    "The model uses the the pre-trained VGG-16 model as a fixed feature extractor, where the last convolutional output of VGG-16 is fed as input to our model.  We only add a global average pooling layer and a fully connected layer, where the latter contains one node for each dog category and is equipped with a softmax."
   ]
  },
  {
   "cell_type": "code",
   "execution_count": 30,
   "metadata": {},
   "outputs": [
    {
     "name": "stdout",
     "output_type": "stream",
     "text": [
      "_________________________________________________________________\n",
      "Layer (type)                 Output Shape              Param #   \n",
      "=================================================================\n",
      "global_average_pooling2d_4 ( (None, 512)               0         \n",
      "_________________________________________________________________\n",
      "dense_4 (Dense)              (None, 133)               68229     \n",
      "=================================================================\n",
      "Total params: 68,229\n",
      "Trainable params: 68,229\n",
      "Non-trainable params: 0\n",
      "_________________________________________________________________\n"
     ]
    }
   ],
   "source": [
    "VGG16_model = Sequential()\n",
    "VGG16_model.add(GlobalAveragePooling2D(input_shape=train_VGG16.shape[1:]))\n",
    "VGG16_model.add(Dense(133, activation='softmax'))\n",
    "\n",
    "VGG16_model.summary()"
   ]
  },
  {
   "cell_type": "markdown",
   "metadata": {},
   "source": [
    "### Compile the Model"
   ]
  },
  {
   "cell_type": "code",
   "execution_count": 31,
   "metadata": {
    "collapsed": true
   },
   "outputs": [],
   "source": [
    "VGG16_model.compile(loss='categorical_crossentropy', optimizer='rmsprop', metrics=['accuracy'])"
   ]
  },
  {
   "cell_type": "markdown",
   "metadata": {},
   "source": [
    "### Train the Model"
   ]
  },
  {
   "cell_type": "code",
   "execution_count": 70,
   "metadata": {},
   "outputs": [
    {
     "name": "stdout",
     "output_type": "stream",
     "text": [
      "Train on 6680 samples, validate on 835 samples\n",
      "Epoch 1/20\n",
      "6560/6680 [============================>.] - ETA: 0s - loss: 11.9187 - acc: 0.1296Epoch 00000: val_loss improved from inf to 10.15684, saving model to saved_models/weights.best.VGG16.hdf5\n",
      "6680/6680 [==============================] - 4s - loss: 11.9095 - acc: 0.1302 - val_loss: 10.1568 - val_acc: 0.2443\n",
      "Epoch 2/20\n",
      "6520/6680 [============================>.] - ETA: 0s - loss: 9.4745 - acc: 0.3041Epoch 00001: val_loss improved from 10.15684 to 9.39586, saving model to saved_models/weights.best.VGG16.hdf5\n",
      "6680/6680 [==============================] - 1s - loss: 9.4479 - acc: 0.3063 - val_loss: 9.3959 - val_acc: 0.3078\n",
      "Epoch 3/20\n",
      "6460/6680 [============================>.] - ETA: 0s - loss: 8.7602 - acc: 0.3824Epoch 00002: val_loss improved from 9.39586 to 9.20015, saving model to saved_models/weights.best.VGG16.hdf5\n",
      "6680/6680 [==============================] - 1s - loss: 8.7695 - acc: 0.3825 - val_loss: 9.2001 - val_acc: 0.3437\n",
      "Epoch 4/20\n",
      "6620/6680 [============================>.] - ETA: 0s - loss: 8.5695 - acc: 0.4150Epoch 00003: val_loss improved from 9.20015 to 8.94995, saving model to saved_models/weights.best.VGG16.hdf5\n",
      "6680/6680 [==============================] - 1s - loss: 8.5487 - acc: 0.4166 - val_loss: 8.9500 - val_acc: 0.3641\n",
      "Epoch 5/20\n",
      "6520/6680 [============================>.] - ETA: 0s - loss: 8.4140 - acc: 0.4377Epoch 00004: val_loss improved from 8.94995 to 8.86188, saving model to saved_models/weights.best.VGG16.hdf5\n",
      "6680/6680 [==============================] - 1s - loss: 8.4139 - acc: 0.4379 - val_loss: 8.8619 - val_acc: 0.3844\n",
      "Epoch 6/20\n",
      "6600/6680 [============================>.] - ETA: 0s - loss: 8.3132 - acc: 0.4508Epoch 00005: val_loss improved from 8.86188 to 8.83010, saving model to saved_models/weights.best.VGG16.hdf5\n",
      "6680/6680 [==============================] - 1s - loss: 8.3063 - acc: 0.4513 - val_loss: 8.8301 - val_acc: 0.3725\n",
      "Epoch 7/20\n",
      "6620/6680 [============================>.] - ETA: 0s - loss: 8.1306 - acc: 0.4651Epoch 00006: val_loss improved from 8.83010 to 8.64350, saving model to saved_models/weights.best.VGG16.hdf5\n",
      "6680/6680 [==============================] - 1s - loss: 8.1235 - acc: 0.4656 - val_loss: 8.6435 - val_acc: 0.3820\n",
      "Epoch 8/20\n",
      "6660/6680 [============================>.] - ETA: 0s - loss: 7.8691 - acc: 0.4806Epoch 00007: val_loss improved from 8.64350 to 8.48916, saving model to saved_models/weights.best.VGG16.hdf5\n",
      "6680/6680 [==============================] - 1s - loss: 7.8721 - acc: 0.4805 - val_loss: 8.4892 - val_acc: 0.3964\n",
      "Epoch 9/20\n",
      "6600/6680 [============================>.] - ETA: 0s - loss: 7.6495 - acc: 0.4939Epoch 00008: val_loss improved from 8.48916 to 8.25802, saving model to saved_models/weights.best.VGG16.hdf5\n",
      "6680/6680 [==============================] - 1s - loss: 7.6478 - acc: 0.4939 - val_loss: 8.2580 - val_acc: 0.4192\n",
      "Epoch 10/20\n",
      "6580/6680 [============================>.] - ETA: 0s - loss: 7.4540 - acc: 0.5141Epoch 00009: val_loss did not improve\n",
      "6680/6680 [==============================] - 1s - loss: 7.4527 - acc: 0.5142 - val_loss: 8.2813 - val_acc: 0.4084\n",
      "Epoch 11/20\n",
      "6460/6680 [============================>.] - ETA: 0s - loss: 7.3958 - acc: 0.5232Epoch 00010: val_loss improved from 8.25802 to 8.13843, saving model to saved_models/weights.best.VGG16.hdf5\n",
      "6680/6680 [==============================] - 1s - loss: 7.3915 - acc: 0.5232 - val_loss: 8.1384 - val_acc: 0.4263\n",
      "Epoch 12/20\n",
      "6520/6680 [============================>.] - ETA: 0s - loss: 7.3443 - acc: 0.5278Epoch 00011: val_loss improved from 8.13843 to 8.07758, saving model to saved_models/weights.best.VGG16.hdf5\n",
      "6680/6680 [==============================] - 1s - loss: 7.3269 - acc: 0.5286 - val_loss: 8.0776 - val_acc: 0.4240\n",
      "Epoch 13/20\n",
      "6460/6680 [============================>.] - ETA: 0s - loss: 7.2140 - acc: 0.5367Epoch 00012: val_loss did not improve\n",
      "6680/6680 [==============================] - 1s - loss: 7.1970 - acc: 0.5373 - val_loss: 8.1233 - val_acc: 0.4108\n",
      "Epoch 14/20\n",
      "6620/6680 [============================>.] - ETA: 0s - loss: 7.1496 - acc: 0.5446Epoch 00013: val_loss improved from 8.07758 to 7.97131, saving model to saved_models/weights.best.VGG16.hdf5\n",
      "6680/6680 [==============================] - 1s - loss: 7.1477 - acc: 0.5448 - val_loss: 7.9713 - val_acc: 0.4395\n",
      "Epoch 15/20\n",
      "6540/6680 [============================>.] - ETA: 0s - loss: 7.1158 - acc: 0.5474Epoch 00014: val_loss improved from 7.97131 to 7.79742, saving model to saved_models/weights.best.VGG16.hdf5\n",
      "6680/6680 [==============================] - 1s - loss: 7.1122 - acc: 0.5475 - val_loss: 7.7974 - val_acc: 0.4563\n",
      "Epoch 16/20\n",
      "6580/6680 [============================>.] - ETA: 0s - loss: 6.9283 - acc: 0.5588Epoch 00015: val_loss improved from 7.79742 to 7.71493, saving model to saved_models/weights.best.VGG16.hdf5\n",
      "6680/6680 [==============================] - 1s - loss: 6.9090 - acc: 0.5602 - val_loss: 7.7149 - val_acc: 0.4431\n",
      "Epoch 17/20\n",
      "6480/6680 [============================>.] - ETA: 0s - loss: 6.7659 - acc: 0.5707Epoch 00016: val_loss improved from 7.71493 to 7.65437, saving model to saved_models/weights.best.VGG16.hdf5\n",
      "6680/6680 [==============================] - 1s - loss: 6.7780 - acc: 0.5698 - val_loss: 7.6544 - val_acc: 0.4515\n",
      "Epoch 18/20\n",
      "6520/6680 [============================>.] - ETA: 0s - loss: 6.6290 - acc: 0.5753Epoch 00017: val_loss improved from 7.65437 to 7.64420, saving model to saved_models/weights.best.VGG16.hdf5\n",
      "6680/6680 [==============================] - 1s - loss: 6.6488 - acc: 0.5744 - val_loss: 7.6442 - val_acc: 0.4539\n",
      "Epoch 19/20\n",
      "6580/6680 [============================>.] - ETA: 0s - loss: 6.5784 - acc: 0.5833Epoch 00018: val_loss improved from 7.64420 to 7.52201, saving model to saved_models/weights.best.VGG16.hdf5\n",
      "6680/6680 [==============================] - 2s - loss: 6.5790 - acc: 0.5834 - val_loss: 7.5220 - val_acc: 0.4467\n",
      "Epoch 20/20\n",
      "6520/6680 [============================>.] - ETA: 0s - loss: 6.5081 - acc: 0.5859Epoch 00019: val_loss improved from 7.52201 to 7.49785, saving model to saved_models/weights.best.VGG16.hdf5\n",
      "6680/6680 [==============================] - 1s - loss: 6.4921 - acc: 0.5871 - val_loss: 7.4979 - val_acc: 0.4659\n"
     ]
    },
    {
     "data": {
      "text/plain": [
       "<keras.callbacks.History at 0x7f404337dbe0>"
      ]
     },
     "execution_count": 70,
     "metadata": {},
     "output_type": "execute_result"
    }
   ],
   "source": [
    "checkpointer = ModelCheckpoint(filepath='saved_models/weights.best.VGG16.hdf5', \n",
    "                               verbose=1, save_best_only=True)\n",
    "\n",
    "VGG16_model.fit(train_VGG16, train_targets, \n",
    "          validation_data=(valid_VGG16, valid_targets),\n",
    "          epochs=20, batch_size=20, callbacks=[checkpointer], verbose=1)"
   ]
  },
  {
   "cell_type": "markdown",
   "metadata": {},
   "source": [
    "### Load the Model with the Best Validation Loss"
   ]
  },
  {
   "cell_type": "code",
   "execution_count": 32,
   "metadata": {
    "collapsed": true
   },
   "outputs": [],
   "source": [
    "VGG16_model.load_weights('saved_models/weights.best.VGG16.hdf5')"
   ]
  },
  {
   "cell_type": "markdown",
   "metadata": {},
   "source": [
    "### Test the Model\n",
    "\n",
    "Now, we can use the CNN to test how well it identifies breed within our test dataset of dog images.  We print the test accuracy below."
   ]
  },
  {
   "cell_type": "code",
   "execution_count": 33,
   "metadata": {},
   "outputs": [
    {
     "name": "stdout",
     "output_type": "stream",
     "text": [
      "Test accuracy: 48.3254%\n"
     ]
    }
   ],
   "source": [
    "# get index of predicted dog breed for each image in test set\n",
    "VGG16_predictions = [np.argmax(VGG16_model.predict(np.expand_dims(feature, axis=0))) for feature in test_VGG16]\n",
    "\n",
    "# report test accuracy\n",
    "test_accuracy = 100*np.sum(np.array(VGG16_predictions)==np.argmax(test_targets, axis=1))/len(VGG16_predictions)\n",
    "print('Test accuracy: %.4f%%' % test_accuracy)"
   ]
  },
  {
   "cell_type": "markdown",
   "metadata": {},
   "source": [
    "### Predict Dog Breed with the Model"
   ]
  },
  {
   "cell_type": "code",
   "execution_count": 34,
   "metadata": {
    "collapsed": true
   },
   "outputs": [],
   "source": [
    "from extract_bottleneck_features import *\n",
    "\n",
    "def VGG16_predict_breed(img_path):\n",
    "    # extract bottleneck features\n",
    "    bottleneck_feature = extract_VGG16(path_to_tensor(img_path))\n",
    "    # obtain predicted vector\n",
    "    predicted_vector = VGG16_model.predict(bottleneck_feature)\n",
    "    # return dog breed that is predicted by the model\n",
    "    return dog_names[np.argmax(predicted_vector)]"
   ]
  },
  {
   "cell_type": "markdown",
   "metadata": {},
   "source": [
    "---\n",
    "<a id='step5'></a>\n",
    "## Step 5: Create a CNN to Classify Dog Breeds (using Transfer Learning)\n",
    "\n",
    "You will now use transfer learning to create a CNN that can identify dog breed from images.  Your CNN must attain at least 60% accuracy on the test set.\n",
    "\n",
    "In Step 4, we used transfer learning to create a CNN using VGG-16 bottleneck features.  In this section, you must use the bottleneck features from a different pre-trained model.  To make things easier for you, we have pre-computed the features for all of the networks that are currently available in Keras:\n",
    "- [VGG-19](https://s3-us-west-1.amazonaws.com/udacity-aind/dog-project/DogVGG19Data.npz) bottleneck features\n",
    "- [ResNet-50](https://s3-us-west-1.amazonaws.com/udacity-aind/dog-project/DogResnet50Data.npz) bottleneck features\n",
    "- [Inception](https://s3-us-west-1.amazonaws.com/udacity-aind/dog-project/DogInceptionV3Data.npz) bottleneck features\n",
    "- [Xception](https://s3-us-west-1.amazonaws.com/udacity-aind/dog-project/DogXceptionData.npz) bottleneck features\n",
    "\n",
    "The files are encoded as such:\n",
    "\n",
    "    Dog{network}Data.npz\n",
    "    \n",
    "where `{network}`, in the above filename, can be one of `VGG19`, `Resnet50`, `InceptionV3`, or `Xception`.  Pick one of the above architectures, download the corresponding bottleneck features, and store the downloaded file in the `bottleneck_features/` folder in the repository.\n",
    "\n",
    "### (IMPLEMENTATION) Obtain Bottleneck Features\n",
    "\n",
    "In the code block below, extract the bottleneck features corresponding to the train, test, and validation sets by running the following:\n",
    "\n",
    "    bottleneck_features = np.load('bottleneck_features/Dog{network}Data.npz')\n",
    "    train_{network} = bottleneck_features['train']\n",
    "    valid_{network} = bottleneck_features['valid']\n",
    "    test_{network} = bottleneck_features['test']"
   ]
  },
  {
   "cell_type": "code",
   "execution_count": 35,
   "metadata": {
    "collapsed": true
   },
   "outputs": [],
   "source": [
    "### TODO: Obtain bottleneck features from another pre-trained CNN.\n",
    "\n",
    "bottleneck_features_for_resnet50 = np.load('bottleneck_features/DogResnet50Data.npz')\n",
    "train_Resnet50 = bottleneck_features_for_resnet50['train']\n",
    "valid_Resnet50 = bottleneck_features_for_resnet50['valid']\n",
    "test_Resnet50 = bottleneck_features_for_resnet50['test']\n",
    "\n"
   ]
  },
  {
   "cell_type": "markdown",
   "metadata": {},
   "source": [
    "### (IMPLEMENTATION) Model Architecture\n",
    "\n",
    "Create a CNN to classify dog breed.  At the end of your code cell block, summarize the layers of your model by executing the line:\n",
    "    \n",
    "        <your model's name>.summary()\n",
    "   \n",
    "__Question 5:__ Outline the steps you took to get to your final CNN architecture and your reasoning at each step.  Describe why you think the architecture is suitable for the current problem.\n",
    "\n",
    "__Answer:__ \n",
    "\n",
    "I had used ResNet-50 and then applied tranfer learning by adding one dense layer with required number of classes  i.e 133 of different type of breed. I had used Global average pooling to reduce the number of parameter this is required because ReSet is very deep model and having huge number of parameters.I have experimented with VGG-19 but that was not giving me approxamtly 44% which is less than expected (60%).\n",
    "\n",
    "ResNet-50 give me accuracy of 83%.\n",
    "\n",
    "\n"
   ]
  },
  {
   "cell_type": "code",
   "execution_count": 38,
   "metadata": {},
   "outputs": [
    {
     "name": "stdout",
     "output_type": "stream",
     "text": [
      "_________________________________________________________________\n",
      "Layer (type)                 Output Shape              Param #   \n",
      "=================================================================\n",
      "global_average_pooling2d_7 ( (None, 2048)              0         \n",
      "_________________________________________________________________\n",
      "dense_7 (Dense)              (None, 133)               272517    \n",
      "=================================================================\n",
      "Total params: 272,517\n",
      "Trainable params: 272,517\n",
      "Non-trainable params: 0\n",
      "_________________________________________________________________\n"
     ]
    }
   ],
   "source": [
    "### TODO: Define your architecture.\n",
    "Resnet50_model = Sequential()\n",
    "Resnet50_model.add(GlobalAveragePooling2D(input_shape=train_Resnet50.shape[1:]))\n",
    "Resnet50_model.add(Dense(133, activation='softmax'))\n",
    "\n",
    "Resnet50_model.summary()"
   ]
  },
  {
   "cell_type": "markdown",
   "metadata": {},
   "source": [
    "### (IMPLEMENTATION) Compile the Model"
   ]
  },
  {
   "cell_type": "code",
   "execution_count": 39,
   "metadata": {
    "collapsed": true
   },
   "outputs": [],
   "source": [
    "### TODO: Compile the model.\n",
    "Resnet50_model.compile(loss='categorical_crossentropy', optimizer='rmsprop', metrics=['accuracy'])"
   ]
  },
  {
   "cell_type": "markdown",
   "metadata": {},
   "source": [
    "### (IMPLEMENTATION) Train the Model\n",
    "\n",
    "Train your model in the code cell below.  Use model checkpointing to save the model that attains the best validation loss.  \n",
    "\n",
    "You are welcome to [augment the training data](https://blog.keras.io/building-powerful-image-classification-models-using-very-little-data.html), but this is not a requirement. "
   ]
  },
  {
   "cell_type": "code",
   "execution_count": 41,
   "metadata": {},
   "outputs": [
    {
     "name": "stdout",
     "output_type": "stream",
     "text": [
      "Train on 6680 samples, validate on 835 samples\n",
      "Epoch 1/20\n",
      "6360/6680 [===========================>..] - ETA: 0s - loss: 1.6891 - acc: 0.5888Epoch 00000: val_loss improved from inf to 0.83082, saving model to saved_models/weights.best.Resnet50.hdf5\n",
      "6680/6680 [==============================] - 1s - loss: 1.6460 - acc: 0.5975 - val_loss: 0.8308 - val_acc: 0.7389\n",
      "Epoch 2/20\n",
      "6660/6680 [============================>.] - ETA: 0s - loss: 0.4370 - acc: 0.8652Epoch 00001: val_loss improved from 0.83082 to 0.72200, saving model to saved_models/weights.best.Resnet50.hdf5\n",
      "6680/6680 [==============================] - 0s - loss: 0.4377 - acc: 0.8650 - val_loss: 0.7220 - val_acc: 0.7820\n",
      "Epoch 3/20\n",
      "6440/6680 [===========================>..] - ETA: 0s - loss: 0.2561 - acc: 0.9177Epoch 00002: val_loss improved from 0.72200 to 0.67312, saving model to saved_models/weights.best.Resnet50.hdf5\n",
      "6680/6680 [==============================] - 0s - loss: 0.2576 - acc: 0.9172 - val_loss: 0.6731 - val_acc: 0.8072\n",
      "Epoch 4/20\n",
      "6500/6680 [============================>.] - ETA: 0s - loss: 0.1728 - acc: 0.9437Epoch 00003: val_loss did not improve\n",
      "6680/6680 [==============================] - 0s - loss: 0.1722 - acc: 0.9439 - val_loss: 0.6820 - val_acc: 0.8132\n",
      "Epoch 5/20\n",
      "6400/6680 [===========================>..] - ETA: 0s - loss: 0.1202 - acc: 0.9633Epoch 00004: val_loss improved from 0.67312 to 0.65425, saving model to saved_models/weights.best.Resnet50.hdf5\n",
      "6680/6680 [==============================] - 0s - loss: 0.1212 - acc: 0.9633 - val_loss: 0.6542 - val_acc: 0.8168\n",
      "Epoch 6/20\n",
      "6300/6680 [===========================>..] - ETA: 0s - loss: 0.0862 - acc: 0.9732Epoch 00005: val_loss did not improve\n",
      "6680/6680 [==============================] - 0s - loss: 0.0867 - acc: 0.9729 - val_loss: 0.6823 - val_acc: 0.8096\n",
      "Epoch 7/20\n",
      "6420/6680 [===========================>..] - ETA: 0s - loss: 0.0610 - acc: 0.9827Epoch 00006: val_loss did not improve\n",
      "6680/6680 [==============================] - 0s - loss: 0.0617 - acc: 0.9823 - val_loss: 0.6983 - val_acc: 0.8228\n",
      "Epoch 8/20\n",
      "6520/6680 [============================>.] - ETA: 0s - loss: 0.0491 - acc: 0.9859Epoch 00007: val_loss did not improve\n",
      "6680/6680 [==============================] - 0s - loss: 0.0485 - acc: 0.9859 - val_loss: 0.7269 - val_acc: 0.8132\n",
      "Epoch 9/20\n",
      "6320/6680 [===========================>..] - ETA: 0s - loss: 0.0366 - acc: 0.9905- ETA: 1s - loss: 0.Epoch 00008: val_loss did not improve\n",
      "6680/6680 [==============================] - 1s - loss: 0.0371 - acc: 0.9903 - val_loss: 0.7528 - val_acc: 0.8168\n",
      "Epoch 10/20\n",
      "6620/6680 [============================>.] - ETA: 0s - loss: 0.0273 - acc: 0.9929Epoch 00009: val_loss did not improve\n",
      "6680/6680 [==============================] - 0s - loss: 0.0272 - acc: 0.9928 - val_loss: 0.7450 - val_acc: 0.8168\n",
      "Epoch 11/20\n",
      "6620/6680 [============================>.] - ETA: 0s - loss: 0.0235 - acc: 0.9934Epoch 00010: val_loss did not improve\n",
      "6680/6680 [==============================] - 0s - loss: 0.0233 - acc: 0.9934 - val_loss: 0.7480 - val_acc: 0.8144\n",
      "Epoch 12/20\n",
      "6560/6680 [============================>.] - ETA: 0s - loss: 0.0192 - acc: 0.9950Epoch 00011: val_loss did not improve\n",
      "6680/6680 [==============================] - 0s - loss: 0.0191 - acc: 0.9951 - val_loss: 0.7450 - val_acc: 0.8251\n",
      "Epoch 13/20\n",
      "6500/6680 [============================>.] - ETA: 0s - loss: 0.0133 - acc: 0.9969Epoch 00012: val_loss did not improve\n",
      "6680/6680 [==============================] - 0s - loss: 0.0137 - acc: 0.9966 - val_loss: 0.7838 - val_acc: 0.8192\n",
      "Epoch 14/20\n",
      "6420/6680 [===========================>..] - ETA: 0s - loss: 0.0103 - acc: 0.9974Epoch 00013: val_loss did not improve\n",
      "6680/6680 [==============================] - 0s - loss: 0.0106 - acc: 0.9972 - val_loss: 0.7857 - val_acc: 0.8144\n",
      "Epoch 15/20\n",
      "6540/6680 [============================>.] - ETA: 0s - loss: 0.0106 - acc: 0.9976Epoch 00014: val_loss did not improve\n",
      "6680/6680 [==============================] - 0s - loss: 0.0105 - acc: 0.9976 - val_loss: 0.8207 - val_acc: 0.8204\n",
      "Epoch 16/20\n",
      "6380/6680 [===========================>..] - ETA: 0s - loss: 0.0096 - acc: 0.9978Epoch 00015: val_loss did not improve\n",
      "6680/6680 [==============================] - 0s - loss: 0.0094 - acc: 0.9979 - val_loss: 0.8895 - val_acc: 0.8240\n",
      "Epoch 17/20\n",
      "6640/6680 [============================>.] - ETA: 0s - loss: 0.0090 - acc: 0.9980Epoch 00016: val_loss did not improve\n",
      "6680/6680 [==============================] - 0s - loss: 0.0091 - acc: 0.9979 - val_loss: 0.8676 - val_acc: 0.8299\n",
      "Epoch 18/20\n",
      "6480/6680 [============================>.] - ETA: 0s - loss: 0.0059 - acc: 0.9983Epoch 00017: val_loss did not improve\n",
      "6680/6680 [==============================] - 0s - loss: 0.0072 - acc: 0.9982 - val_loss: 0.8877 - val_acc: 0.8251\n",
      "Epoch 19/20\n",
      "6520/6680 [============================>.] - ETA: 0s - loss: 0.0077 - acc: 0.9985Epoch 00018: val_loss did not improve\n",
      "6680/6680 [==============================] - 0s - loss: 0.0075 - acc: 0.9985 - val_loss: 0.8916 - val_acc: 0.8180\n",
      "Epoch 20/20\n",
      "6320/6680 [===========================>..] - ETA: 0s - loss: 0.0083 - acc: 0.9981Epoch 00019: val_loss did not improve\n",
      "6680/6680 [==============================] - 0s - loss: 0.0080 - acc: 0.9982 - val_loss: 0.9424 - val_acc: 0.8228\n"
     ]
    },
    {
     "data": {
      "text/plain": [
       "<keras.callbacks.History at 0x7f3c75d048d0>"
      ]
     },
     "execution_count": 41,
     "metadata": {},
     "output_type": "execute_result"
    }
   ],
   "source": [
    "### TODO: Train the model.\n",
    "from keras.callbacks import ModelCheckpoint\n",
    "checkpointerResnet50 = ModelCheckpoint(filepath='saved_models/weights.best.Resnet50.hdf5', \n",
    "                               verbose=1, save_best_only=True)\n",
    "\n",
    "Resnet50_model.fit(train_Resnet50, train_targets, \n",
    "          validation_data=(valid_Resnet50, valid_targets),\n",
    "          epochs=20, batch_size=20, callbacks=[checkpointerResnet50], verbose=1)"
   ]
  },
  {
   "cell_type": "markdown",
   "metadata": {},
   "source": [
    "### (IMPLEMENTATION) Load the Model with the Best Validation Loss"
   ]
  },
  {
   "cell_type": "code",
   "execution_count": 42,
   "metadata": {
    "collapsed": true
   },
   "outputs": [],
   "source": [
    "### TODO: Load the model weights with the best validation loss.\n",
    "Resnet50_model.load_weights('saved_models/weights.best.Resnet50.hdf5')"
   ]
  },
  {
   "cell_type": "markdown",
   "metadata": {},
   "source": [
    "### (IMPLEMENTATION) Test the Model\n",
    "\n",
    "Try out your model on the test dataset of dog images. Ensure that your test accuracy is greater than 60%."
   ]
  },
  {
   "cell_type": "code",
   "execution_count": 43,
   "metadata": {},
   "outputs": [
    {
     "name": "stdout",
     "output_type": "stream",
     "text": [
      "Test accuracy: 81.4593%\n"
     ]
    }
   ],
   "source": [
    "### TODO: Calculate classification accuracy on the test dataset.\n",
    "# get index of predicted dog breed for each image in test set\n",
    "Resnet50_predictions = [np.argmax(Resnet50_model.predict(np.expand_dims(feature, axis=0))) for feature in test_Resnet50]\n",
    "\n",
    "# report test accuracy\n",
    "test_accuracy_for_Resnet50 = 100*np.sum(np.array(Resnet50_predictions)==np.argmax(test_targets, axis=1))/len(Resnet50_predictions)\n",
    "print('Test accuracy: %.4f%%' % test_accuracy_for_Resnet50)\n",
    "\n"
   ]
  },
  {
   "cell_type": "markdown",
   "metadata": {},
   "source": [
    "### (IMPLEMENTATION) Predict Dog Breed with the Model\n",
    "\n",
    "Write a function that takes an image path as input and returns the dog breed (`Affenpinscher`, `Afghan_hound`, etc) that is predicted by your model.  \n",
    "\n",
    "Similar to the analogous function in Step 5, your function should have three steps:\n",
    "1. Extract the bottleneck features corresponding to the chosen CNN model.\n",
    "2. Supply the bottleneck features as input to the model to return the predicted vector.  Note that the argmax of this prediction vector gives the index of the predicted dog breed.\n",
    "3. Use the `dog_names` array defined in Step 0 of this notebook to return the corresponding breed.\n",
    "\n",
    "The functions to extract the bottleneck features can be found in `extract_bottleneck_features.py`, and they have been imported in an earlier code cell.  To obtain the bottleneck features corresponding to your chosen CNN architecture, you need to use the function\n",
    "\n",
    "    extract_{network}\n",
    "    \n",
    "where `{network}`, in the above filename, should be one of `VGG19`, `Resnet50`, `InceptionV3`, or `Xception`."
   ]
  },
  {
   "cell_type": "code",
   "execution_count": 44,
   "metadata": {
    "collapsed": true
   },
   "outputs": [],
   "source": [
    "### TODO: Write a function that takes a path to an image as input\n",
    "### and returns the dog breed that is predicted by the model.\n",
    "from extract_bottleneck_features import *\n",
    "\n",
    "def Resnet50_predict_breed(img_path):\n",
    "    # extract bottleneck features\n",
    "    bottleneck_feature_Resnet50 = extract_Resnet50(path_to_tensor(img_path))\n",
    "    # obtain predicted vector\n",
    "    predicted_vector_Resnet50 = Resnet50_model.predict(bottleneck_feature_Resnet50)\n",
    "    # return dog breed that is predicted by the model\n",
    "    return dog_names[np.argmax(predicted_vector_Resnet50)]"
   ]
  },
  {
   "cell_type": "markdown",
   "metadata": {},
   "source": [
    "---\n",
    "<a id='step6'></a>\n",
    "## Step 6: Write your Algorithm\n",
    "\n",
    "Write an algorithm that accepts a file path to an image and first determines whether the image contains a human, dog, or neither.  Then,\n",
    "- if a __dog__ is detected in the image, return the predicted breed.\n",
    "- if a __human__ is detected in the image, return the resembling dog breed.\n",
    "- if __neither__ is detected in the image, provide output that indicates an error.\n",
    "\n",
    "You are welcome to write your own functions for detecting humans and dogs in images, but feel free to use the `face_detector` and `dog_detector` functions developed above.  You are __required__ to use your CNN from Step 5 to predict dog breed.  \n",
    "\n",
    "Some sample output for our algorithm is provided below, but feel free to design your own user experience!\n",
    "\n",
    "![Sample Human Output](images/sample_human_output.png)\n",
    "\n",
    "\n",
    "### (IMPLEMENTATION) Write your Algorithm"
   ]
  },
  {
   "cell_type": "code",
   "execution_count": 45,
   "metadata": {
    "collapsed": true
   },
   "outputs": [],
   "source": [
    "### TODO: Write your algorithm.\n",
    "### Feel free to use as many code cells as needed.\n",
    "def dog_breed_find(img_path):\n",
    "    if(dog_detector(img_path) == True):\n",
    "        face = \"Dog\"\n",
    "        dogName = Resnet50_predict_breed(img_path)\n",
    "        return (dogName, face)\n",
    "    elif(face_detector(img_path) == True):\n",
    "        face = \"Human\"\n",
    "        dogName = Resnet50_predict_breed(img_path)\n",
    "        return (dogName,face)\n",
    "\n",
    "    else:\n",
    "        error= \"Error: Fails to Detect image\"\n",
    "        detect = \"No Detection\"\n",
    "        return (error,detect)\n",
    "        \n",
    "        \n",
    "        \n",
    "        \n",
    "        \n",
    "        "
   ]
  },
  {
   "cell_type": "markdown",
   "metadata": {},
   "source": [
    "---\n",
    "<a id='step7'></a>\n",
    "## Step 7: Test Your Algorithm\n",
    "\n",
    "In this section, you will take your new algorithm for a spin!  What kind of dog does the algorithm think that __you__ look like?  If you have a dog, does it predict your dog's breed accurately?  If you have a cat, does it mistakenly think that your cat is a dog?\n",
    "\n",
    "### (IMPLEMENTATION) Test Your Algorithm on Sample Images!\n",
    "\n",
    "Test your algorithm at least six images on your computer.  Feel free to use any images you like.  Use at least two human and two dog images.  \n",
    "\n",
    "__Question 6:__ Is the output better than you expected :) ?  Or worse :( ?  Provide at least three possible points of improvement for your algorithm.\n",
    "\n",
    "__Answer:__ \n",
    "\n",
    "Output was expected for gog test images . It was able to tell the correct beed of dogs but showing same breed for all the human iamges. That create doubt.\n",
    "\n",
    "1 . Training dataset is less, we should use different aumentation technique to increase the datasets.\n",
    "\n",
    "2 . It would be good if model can also output confidence lavel of prediction of breed. This will help us to know how certain the model is about any class.\n",
    "\n",
    " 3 . Different model architectures can be explored to see the better accuracy on test datasets."
   ]
  },
  {
   "cell_type": "code",
   "execution_count": 46,
   "metadata": {},
   "outputs": [
    {
     "name": "stdout",
     "output_type": "stream",
     "text": [
      "There are 6 total test images.\n"
     ]
    },
    {
     "data": {
      "image/png": "[encoded data removed]",
      "text/plain": [
       "<matplotlib.figure.Figure at 0x7f3c75c86b70>"
      ]
     },
     "metadata": {},
     "output_type": "display_data"
    }
   ],
   "source": [
    "## TODO: Execute your algorithm from Step 6 on\n",
    "## at least 6 images on your computer.\n",
    "## Feel free to use as many code cells as needed.\n",
    "#Plotting the Graph \n",
    "import numpy as np\n",
    "test_images = np.array(glob(\"Test_images/*\"))\n",
    "random.shuffle(test_images)\n",
    "\n",
    "# print statistics about the dataset\n",
    "print('There are %d total test images.' % len(test_images))\n",
    "\n",
    "\n",
    "fig, axs = plt.subplots(1,6, figsize=(15, 2))\n",
    "def test_breed_find_algo(test_images):\n",
    "    for i in range(len(test_images)):\n",
    "\n",
    "        dogname, face = dog_breed_find(test_images[i])\n",
    "        img = cv2.imread(test_images[i])\n",
    "        res = cv2.resize(img,(224, 224), interpolation = cv2.INTER_CUBIC) \n",
    "        cv_rgb = cv2.cvtColor(res, cv2.COLOR_BGR2RGB)\n",
    "        axs[i].imshow(cv_rgb)\n",
    "        #if(dogname)\n",
    "        axs[i].set_title(\"Hello,\"+face)\n",
    "        axs[i].set_xlabel(\"You Look like a\"+\"\\n\"+dogname)\n",
    "        \n",
    "        \n",
    "        \n",
    "test_breed_find_algo(test_images)    "
   ]
  },
  {
   "cell_type": "code",
   "execution_count": null,
   "metadata": {
    "collapsed": true
   },
   "outputs": [],
   "source": []
  }
 ],
 "metadata": {
  "anaconda-cloud": {},
  "kernelspec": {
   "display_name": "Python 3",
   "language": "python",
   "name": "python3"
  },
  "language_info": {
   "codemirror_mode": {
    "name": "ipython",
    "version": 3
   },
   "file_extension": ".py",
   "mimetype": "text/x-python",
   "name": "python",
   "nbconvert_exporter": "python",
   "pygments_lexer": "ipython3",
   "version": "3.5.2"
  },
  "widgets": {
   "state": {},
   "version": "1.1.2"
  }
 },
 "nbformat": 4,
 "nbformat_minor": 1
}
